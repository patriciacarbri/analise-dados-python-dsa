{
 "cells": [
  {
   "cell_type": "markdown",
   "id": "eaa55878",
   "metadata": {},
   "source": [
    "Projeto feito durante o curso de Análise de dados da Data Science Academy \n",
    "- Fonte: https://www.datascienceacademy.com.br/\n",
    "- Base de Dados: https://archive-beta.ics.uci.edu/"
   ]
  },
  {
   "cell_type": "code",
   "execution_count": null,
   "id": "33e08b41",
   "metadata": {},
   "outputs": [],
   "source": [
    "import numpy as np\n",
    "import pandas as pd\n",
    "import matplotlib.pyplot as plt\n",
    "import seaborn as sns"
   ]
  },
  {
   "cell_type": "code",
   "execution_count": null,
   "id": "e74883c9",
   "metadata": {},
   "outputs": [],
   "source": [
    "dados = pd.read_csv(\"dados/dataset1.csv\")"
   ]
  },
  {
   "cell_type": "code",
   "execution_count": null,
   "id": "da08b838",
   "metadata": {},
   "outputs": [],
   "source": [
    "dados.shape"
   ]
  },
  {
   "cell_type": "code",
   "execution_count": null,
   "id": "bc513f1a",
   "metadata": {},
   "outputs": [],
   "source": [
    "dados.dtypes"
   ]
  },
  {
   "cell_type": "code",
   "execution_count": null,
   "id": "28166302",
   "metadata": {},
   "outputs": [],
   "source": [
    "dados.head(10)"
   ]
  },
  {
   "cell_type": "code",
   "execution_count": null,
   "id": "4d6524b9",
   "metadata": {},
   "outputs": [],
   "source": [
    "dados.describe()"
   ]
  },
  {
   "cell_type": "code",
   "execution_count": null,
   "id": "caa10087",
   "metadata": {},
   "outputs": [],
   "source": [
    "dados.isnull().sum()"
   ]
  },
  {
   "cell_type": "code",
   "execution_count": null,
   "id": "3999729b",
   "metadata": {},
   "outputs": [],
   "source": [
    "dados.info()"
   ]
  },
  {
   "cell_type": "markdown",
   "id": "fcefe40b",
   "metadata": {},
   "source": [
    "# Scatter Plot"
   ]
  },
  {
   "cell_type": "markdown",
   "id": "3d753a75",
   "metadata": {},
   "source": [
    "## Relação entre duas variáveis"
   ]
  },
  {
   "cell_type": "markdown",
   "id": "087735f2",
   "metadata": {},
   "source": [
    ">Gráfico 1 - Simples"
   ]
  },
  {
   "cell_type": "code",
   "execution_count": null,
   "id": "56a9a680",
   "metadata": {},
   "outputs": [],
   "source": [
    "plt.figure(figsize = (20,8))\n",
    "sns.relplot(x= \"total_bill\", y = \"tip\", data = bados)"
   ]
  },
  {
   "cell_type": "markdown",
   "id": "08a38206",
   "metadata": {},
   "source": [
    "> Gráfico 2 - pontos coloridos por uma terceira variável\n"
   ]
  },
  {
   "cell_type": "code",
   "execution_count": null,
   "id": "84e433e1",
   "metadata": {},
   "outputs": [],
   "source": [
    "plt.figure(figsize = (20,8))\n",
    "sns.relplot(x = \"total_bill\", y = \"tip\", hue = \"smoker\", data = dados)"
   ]
  },
  {
   "cell_type": "markdown",
   "id": "1ead02a4",
   "metadata": {},
   "source": [
    "> Gráfico 3 - Gráfico com relação entre duas variáveis, pontos coloridos por terceira variável e diferentes símbolos\n"
   ]
  },
  {
   "cell_type": "code",
   "execution_count": null,
   "id": "c91f9600",
   "metadata": {},
   "outputs": [],
   "source": [
    "plt.figure(figsize = (20,8))\n",
    "sns.relplot (x = \"total_bill\", y = \"tip\", hue = \"smoker\", style = \"smoker\", data = dados)"
   ]
  },
  {
   "cell_type": "markdown",
   "id": "19ad3384",
   "metadata": {},
   "source": [
    "> Gráfico 4 - Relação entre duas variáveis com pontos coloridos por uma terceira variável e símbolos por uma quarta variável"
   ]
  },
  {
   "cell_type": "code",
   "execution_count": null,
   "id": "c9679be3",
   "metadata": {},
   "outputs": [],
   "source": [
    "plt.figure(figsize = (20,8))\n",
    "sns.relplot(x = \"total_bill\", y = \"tip\", hue = \"smoker\", style = \"time\", data = dados)"
   ]
  },
  {
   "cell_type": "markdown",
   "id": "7005a1c5",
   "metadata": {},
   "source": [
    "> Gráfico 5 - Relação entre duas variáveis e pontos coloridos por uma terceira variável"
   ]
  },
  {
   "cell_type": "code",
   "execution_count": null,
   "id": "75986563",
   "metadata": {},
   "outputs": [],
   "source": [
    "plt.figure(figsize = (20,8))\n",
    "sns.relplot(x = \"total_bill\", y = \"tip\", hue = \"size\", data = dados)"
   ]
  },
  {
   "cell_type": "markdown",
   "id": "0d51b4ab",
   "metadata": {},
   "source": [
    "> Gráfico 6 - Relação entre duas variáveis e pontos coloridos pelas categorias de uma terceira variável, com ajuste na escala dos símbolos"
   ]
  },
  {
   "cell_type": "code",
   "execution_count": null,
   "id": "d0defd4d",
   "metadata": {},
   "outputs": [],
   "source": [
    "plt.figure(figsize = (20,8))\n",
    "sns.relplot(x = \"total_bill\", y = \"tip\", hue = \"size\", palette = \"ch:r=-.5,l=.75\", data = dados)"
   ]
  },
  {
   "cell_type": "markdown",
   "id": "aadc188b",
   "metadata": {},
   "source": [
    "> Gráfico 7 - Relação entre duas variáveis e pontos com tamanhos definidos pelas categorias de terceira variável"
   ]
  },
  {
   "cell_type": "code",
   "execution_count": null,
   "id": "4559e79c",
   "metadata": {},
   "outputs": [],
   "source": [
    "plt.figure(figsize = (20,8))\n",
    "sns.relplot(x = \"total_bill\", y = \"tip\", size = \"size\", data = dados)"
   ]
  },
  {
   "cell_type": "markdown",
   "id": "ab70bdca",
   "metadata": {},
   "source": [
    "> Gráfico 8 - Relação entre duas variáveis e os pontos com tamanhos definidos pelas categorias de uma terceira variável, com ajuste da escala dos símbolos"
   ]
  },
  {
   "cell_type": "code",
   "execution_count": null,
   "id": "f816d04f",
   "metadata": {},
   "outputs": [],
   "source": [
    "plt.figure(figsize = (20,8))\n",
    "sns.relplot(x = \"total_bill\", y = \"tip\", size = \"size\", sizes = (20, 200), data = dados)"
   ]
  }
 ],
 "metadata": {
  "kernelspec": {
   "display_name": "Python 3 (ipykernel)",
   "language": "python",
   "name": "python3"
  },
  "language_info": {
   "codemirror_mode": {
    "name": "ipython",
    "version": 3
   },
   "file_extension": ".py",
   "mimetype": "text/x-python",
   "name": "python",
   "nbconvert_exporter": "python",
   "pygments_lexer": "ipython3",
   "version": "3.9.7"
  }
 },
 "nbformat": 4,
 "nbformat_minor": 5
}
