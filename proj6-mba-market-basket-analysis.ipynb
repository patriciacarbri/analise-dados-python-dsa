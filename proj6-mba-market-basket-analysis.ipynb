{
 "cells": [
  {
   "cell_type": "markdown",
   "id": "f3d8eb74",
   "metadata": {},
   "source": [
    "Projeto feito durante o curso de Análise de dados da Data Science Academy \n",
    "- Fonte: https://www.datascienceacademy.com.br/\n",
    "- Base de Dados: https://www.kaggle.com/c/instacart-market-basket-analysis/data"
   ]
  },
  {
   "cell_type": "markdown",
   "id": "3f38e830",
   "metadata": {},
   "source": [
    "Análise de Cesta de Compras (Market Basket Analysis) é uma técnica usada para descobrir associações entre itens"
   ]
  },
  {
   "cell_type": "code",
   "execution_count": 1,
   "id": "a650575f",
   "metadata": {},
   "outputs": [],
   "source": [
    "# !pip install -q -U watermark\n",
    "# !pip install -q efficient_apriori"
   ]
  },
  {
   "cell_type": "code",
   "execution_count": 2,
   "id": "ae52eb57",
   "metadata": {},
   "outputs": [],
   "source": [
    "# Imports\n",
    "# Dupla Excel - para manipulação de dados\n",
    "import numpy as np\n",
    "import pandas as pd\n",
    "# Para Gráficos\n",
    "import matplotlib.pyplot as plt\n",
    "# Tempo\n",
    "from datetime import datetime\n",
    "# Combinação de Dados\n",
    "from itertools import combinations\n",
    "# Algoritmo apriori\n",
    "import efficient_apriori\n",
    "from efficient_apriori import apriori"
   ]
  },
  {
   "cell_type": "markdown",
   "id": "d431b2ad",
   "metadata": {},
   "source": [
    "## Carregando os dados"
   ]
  },
  {
   "cell_type": "code",
   "execution_count": 3,
   "id": "82ddedf8",
   "metadata": {},
   "outputs": [],
   "source": [
    "aisle = pd.read_csv('dados/aisles.csv')\n",
    "department = pd.read_csv('dados/departments.csv')\n",
    "order = pd.read_csv('dados/orders.csv')\n",
    "product = pd.read_csv('dados/products.csv')\n",
    "order_product_prior = pd.read_csv('dados/order_products__prior.csv')\n",
    "order_product_train = pd.read_csv('dados/order_products__train.csv')"
   ]
  },
  {
   "cell_type": "markdown",
   "id": "5a2eb581",
   "metadata": {},
   "source": [
    "## Análise Exploratória"
   ]
  },
  {
   "cell_type": "code",
   "execution_count": 4,
   "id": "acfeb22c",
   "metadata": {},
   "outputs": [
    {
     "data": {
      "text/plain": [
       "(134, 2)"
      ]
     },
     "execution_count": 4,
     "metadata": {},
     "output_type": "execute_result"
    }
   ],
   "source": [
    "# Categorias de produtos\n",
    "aisle.shape"
   ]
  },
  {
   "cell_type": "code",
   "execution_count": 5,
   "id": "24326023",
   "metadata": {},
   "outputs": [
    {
     "data": {
      "text/html": [
       "<div>\n",
       "<style scoped>\n",
       "    .dataframe tbody tr th:only-of-type {\n",
       "        vertical-align: middle;\n",
       "    }\n",
       "\n",
       "    .dataframe tbody tr th {\n",
       "        vertical-align: top;\n",
       "    }\n",
       "\n",
       "    .dataframe thead th {\n",
       "        text-align: right;\n",
       "    }\n",
       "</style>\n",
       "<table border=\"1\" class=\"dataframe\">\n",
       "  <thead>\n",
       "    <tr style=\"text-align: right;\">\n",
       "      <th></th>\n",
       "      <th>aisle_id</th>\n",
       "      <th>aisle</th>\n",
       "    </tr>\n",
       "  </thead>\n",
       "  <tbody>\n",
       "    <tr>\n",
       "      <th>0</th>\n",
       "      <td>1</td>\n",
       "      <td>prepared soups salads</td>\n",
       "    </tr>\n",
       "    <tr>\n",
       "      <th>1</th>\n",
       "      <td>2</td>\n",
       "      <td>specialty cheeses</td>\n",
       "    </tr>\n",
       "    <tr>\n",
       "      <th>2</th>\n",
       "      <td>3</td>\n",
       "      <td>energy granola bars</td>\n",
       "    </tr>\n",
       "    <tr>\n",
       "      <th>3</th>\n",
       "      <td>4</td>\n",
       "      <td>instant foods</td>\n",
       "    </tr>\n",
       "    <tr>\n",
       "      <th>4</th>\n",
       "      <td>5</td>\n",
       "      <td>marinades meat preparation</td>\n",
       "    </tr>\n",
       "  </tbody>\n",
       "</table>\n",
       "</div>"
      ],
      "text/plain": [
       "   aisle_id                       aisle\n",
       "0         1       prepared soups salads\n",
       "1         2           specialty cheeses\n",
       "2         3         energy granola bars\n",
       "3         4               instant foods\n",
       "4         5  marinades meat preparation"
      ]
     },
     "execution_count": 5,
     "metadata": {},
     "output_type": "execute_result"
    }
   ],
   "source": [
    "aisle.head()"
   ]
  },
  {
   "cell_type": "code",
   "execution_count": 6,
   "id": "0441a92b",
   "metadata": {},
   "outputs": [
    {
     "data": {
      "text/plain": [
       "(21, 2)"
      ]
     },
     "execution_count": 6,
     "metadata": {},
     "output_type": "execute_result"
    }
   ],
   "source": [
    "# Departamentos\n",
    "department.shape"
   ]
  },
  {
   "cell_type": "code",
   "execution_count": 7,
   "id": "7f2b7af4",
   "metadata": {},
   "outputs": [
    {
     "data": {
      "text/html": [
       "<div>\n",
       "<style scoped>\n",
       "    .dataframe tbody tr th:only-of-type {\n",
       "        vertical-align: middle;\n",
       "    }\n",
       "\n",
       "    .dataframe tbody tr th {\n",
       "        vertical-align: top;\n",
       "    }\n",
       "\n",
       "    .dataframe thead th {\n",
       "        text-align: right;\n",
       "    }\n",
       "</style>\n",
       "<table border=\"1\" class=\"dataframe\">\n",
       "  <thead>\n",
       "    <tr style=\"text-align: right;\">\n",
       "      <th></th>\n",
       "      <th>department_id</th>\n",
       "      <th>department</th>\n",
       "    </tr>\n",
       "  </thead>\n",
       "  <tbody>\n",
       "    <tr>\n",
       "      <th>0</th>\n",
       "      <td>1</td>\n",
       "      <td>frozen</td>\n",
       "    </tr>\n",
       "    <tr>\n",
       "      <th>1</th>\n",
       "      <td>2</td>\n",
       "      <td>other</td>\n",
       "    </tr>\n",
       "    <tr>\n",
       "      <th>2</th>\n",
       "      <td>3</td>\n",
       "      <td>bakery</td>\n",
       "    </tr>\n",
       "    <tr>\n",
       "      <th>3</th>\n",
       "      <td>4</td>\n",
       "      <td>produce</td>\n",
       "    </tr>\n",
       "    <tr>\n",
       "      <th>4</th>\n",
       "      <td>5</td>\n",
       "      <td>alcohol</td>\n",
       "    </tr>\n",
       "  </tbody>\n",
       "</table>\n",
       "</div>"
      ],
      "text/plain": [
       "   department_id department\n",
       "0              1     frozen\n",
       "1              2      other\n",
       "2              3     bakery\n",
       "3              4    produce\n",
       "4              5    alcohol"
      ]
     },
     "execution_count": 7,
     "metadata": {},
     "output_type": "execute_result"
    }
   ],
   "source": [
    "department.head()"
   ]
  },
  {
   "cell_type": "code",
   "execution_count": 8,
   "id": "6932f888",
   "metadata": {},
   "outputs": [
    {
     "data": {
      "text/plain": [
       "(49688, 4)"
      ]
     },
     "execution_count": 8,
     "metadata": {},
     "output_type": "execute_result"
    }
   ],
   "source": [
    "# Produtos\n",
    "product.shape"
   ]
  },
  {
   "cell_type": "code",
   "execution_count": 9,
   "id": "52a070bc",
   "metadata": {},
   "outputs": [
    {
     "data": {
      "text/html": [
       "<div>\n",
       "<style scoped>\n",
       "    .dataframe tbody tr th:only-of-type {\n",
       "        vertical-align: middle;\n",
       "    }\n",
       "\n",
       "    .dataframe tbody tr th {\n",
       "        vertical-align: top;\n",
       "    }\n",
       "\n",
       "    .dataframe thead th {\n",
       "        text-align: right;\n",
       "    }\n",
       "</style>\n",
       "<table border=\"1\" class=\"dataframe\">\n",
       "  <thead>\n",
       "    <tr style=\"text-align: right;\">\n",
       "      <th></th>\n",
       "      <th>product_id</th>\n",
       "      <th>product_name</th>\n",
       "      <th>aisle_id</th>\n",
       "      <th>department_id</th>\n",
       "    </tr>\n",
       "  </thead>\n",
       "  <tbody>\n",
       "    <tr>\n",
       "      <th>0</th>\n",
       "      <td>1</td>\n",
       "      <td>Chocolate Sandwich Cookies</td>\n",
       "      <td>61</td>\n",
       "      <td>19</td>\n",
       "    </tr>\n",
       "    <tr>\n",
       "      <th>1</th>\n",
       "      <td>2</td>\n",
       "      <td>All-Seasons Salt</td>\n",
       "      <td>104</td>\n",
       "      <td>13</td>\n",
       "    </tr>\n",
       "    <tr>\n",
       "      <th>2</th>\n",
       "      <td>3</td>\n",
       "      <td>Robust Golden Unsweetened Oolong Tea</td>\n",
       "      <td>94</td>\n",
       "      <td>7</td>\n",
       "    </tr>\n",
       "    <tr>\n",
       "      <th>3</th>\n",
       "      <td>4</td>\n",
       "      <td>Smart Ones Classic Favorites Mini Rigatoni Wit...</td>\n",
       "      <td>38</td>\n",
       "      <td>1</td>\n",
       "    </tr>\n",
       "    <tr>\n",
       "      <th>4</th>\n",
       "      <td>5</td>\n",
       "      <td>Green Chile Anytime Sauce</td>\n",
       "      <td>5</td>\n",
       "      <td>13</td>\n",
       "    </tr>\n",
       "  </tbody>\n",
       "</table>\n",
       "</div>"
      ],
      "text/plain": [
       "   product_id                                       product_name  aisle_id  \\\n",
       "0           1                         Chocolate Sandwich Cookies        61   \n",
       "1           2                                   All-Seasons Salt       104   \n",
       "2           3               Robust Golden Unsweetened Oolong Tea        94   \n",
       "3           4  Smart Ones Classic Favorites Mini Rigatoni Wit...        38   \n",
       "4           5                          Green Chile Anytime Sauce         5   \n",
       "\n",
       "   department_id  \n",
       "0             19  \n",
       "1             13  \n",
       "2              7  \n",
       "3              1  \n",
       "4             13  "
      ]
     },
     "execution_count": 9,
     "metadata": {},
     "output_type": "execute_result"
    }
   ],
   "source": [
    "product.head()"
   ]
  },
  {
   "cell_type": "code",
   "execution_count": 10,
   "id": "0614a9f9",
   "metadata": {},
   "outputs": [
    {
     "data": {
      "text/plain": [
       "(3421083, 7)"
      ]
     },
     "execution_count": 10,
     "metadata": {},
     "output_type": "execute_result"
    }
   ],
   "source": [
    "order.shape"
   ]
  },
  {
   "cell_type": "code",
   "execution_count": 11,
   "id": "ce77ec9f",
   "metadata": {},
   "outputs": [
    {
     "data": {
      "text/html": [
       "<div>\n",
       "<style scoped>\n",
       "    .dataframe tbody tr th:only-of-type {\n",
       "        vertical-align: middle;\n",
       "    }\n",
       "\n",
       "    .dataframe tbody tr th {\n",
       "        vertical-align: top;\n",
       "    }\n",
       "\n",
       "    .dataframe thead th {\n",
       "        text-align: right;\n",
       "    }\n",
       "</style>\n",
       "<table border=\"1\" class=\"dataframe\">\n",
       "  <thead>\n",
       "    <tr style=\"text-align: right;\">\n",
       "      <th></th>\n",
       "      <th>order_id</th>\n",
       "      <th>user_id</th>\n",
       "      <th>eval_set</th>\n",
       "      <th>order_number</th>\n",
       "      <th>order_dow</th>\n",
       "      <th>order_hour_of_day</th>\n",
       "      <th>days_since_prior_order</th>\n",
       "    </tr>\n",
       "  </thead>\n",
       "  <tbody>\n",
       "    <tr>\n",
       "      <th>0</th>\n",
       "      <td>2539329</td>\n",
       "      <td>1</td>\n",
       "      <td>prior</td>\n",
       "      <td>1</td>\n",
       "      <td>2</td>\n",
       "      <td>8</td>\n",
       "      <td>NaN</td>\n",
       "    </tr>\n",
       "    <tr>\n",
       "      <th>1</th>\n",
       "      <td>2398795</td>\n",
       "      <td>1</td>\n",
       "      <td>prior</td>\n",
       "      <td>2</td>\n",
       "      <td>3</td>\n",
       "      <td>7</td>\n",
       "      <td>15.0</td>\n",
       "    </tr>\n",
       "    <tr>\n",
       "      <th>2</th>\n",
       "      <td>473747</td>\n",
       "      <td>1</td>\n",
       "      <td>prior</td>\n",
       "      <td>3</td>\n",
       "      <td>3</td>\n",
       "      <td>12</td>\n",
       "      <td>21.0</td>\n",
       "    </tr>\n",
       "    <tr>\n",
       "      <th>3</th>\n",
       "      <td>2254736</td>\n",
       "      <td>1</td>\n",
       "      <td>prior</td>\n",
       "      <td>4</td>\n",
       "      <td>4</td>\n",
       "      <td>7</td>\n",
       "      <td>29.0</td>\n",
       "    </tr>\n",
       "    <tr>\n",
       "      <th>4</th>\n",
       "      <td>431534</td>\n",
       "      <td>1</td>\n",
       "      <td>prior</td>\n",
       "      <td>5</td>\n",
       "      <td>4</td>\n",
       "      <td>15</td>\n",
       "      <td>28.0</td>\n",
       "    </tr>\n",
       "  </tbody>\n",
       "</table>\n",
       "</div>"
      ],
      "text/plain": [
       "   order_id  user_id eval_set  order_number  order_dow  order_hour_of_day  \\\n",
       "0   2539329        1    prior             1          2                  8   \n",
       "1   2398795        1    prior             2          3                  7   \n",
       "2    473747        1    prior             3          3                 12   \n",
       "3   2254736        1    prior             4          4                  7   \n",
       "4    431534        1    prior             5          4                 15   \n",
       "\n",
       "   days_since_prior_order  \n",
       "0                     NaN  \n",
       "1                    15.0  \n",
       "2                    21.0  \n",
       "3                    29.0  \n",
       "4                    28.0  "
      ]
     },
     "execution_count": 11,
     "metadata": {},
     "output_type": "execute_result"
    }
   ],
   "source": [
    "order.head()"
   ]
  },
  {
   "cell_type": "code",
   "execution_count": 12,
   "id": "26581ef0",
   "metadata": {},
   "outputs": [
    {
     "data": {
      "text/plain": [
       "(32434489, 4)"
      ]
     },
     "execution_count": 12,
     "metadata": {},
     "output_type": "execute_result"
    }
   ],
   "source": [
    "order_product_prior.shape"
   ]
  },
  {
   "cell_type": "code",
   "execution_count": 13,
   "id": "301bda61",
   "metadata": {},
   "outputs": [
    {
     "data": {
      "text/html": [
       "<div>\n",
       "<style scoped>\n",
       "    .dataframe tbody tr th:only-of-type {\n",
       "        vertical-align: middle;\n",
       "    }\n",
       "\n",
       "    .dataframe tbody tr th {\n",
       "        vertical-align: top;\n",
       "    }\n",
       "\n",
       "    .dataframe thead th {\n",
       "        text-align: right;\n",
       "    }\n",
       "</style>\n",
       "<table border=\"1\" class=\"dataframe\">\n",
       "  <thead>\n",
       "    <tr style=\"text-align: right;\">\n",
       "      <th></th>\n",
       "      <th>order_id</th>\n",
       "      <th>product_id</th>\n",
       "      <th>add_to_cart_order</th>\n",
       "      <th>reordered</th>\n",
       "    </tr>\n",
       "  </thead>\n",
       "  <tbody>\n",
       "    <tr>\n",
       "      <th>0</th>\n",
       "      <td>2</td>\n",
       "      <td>33120</td>\n",
       "      <td>1</td>\n",
       "      <td>1</td>\n",
       "    </tr>\n",
       "    <tr>\n",
       "      <th>1</th>\n",
       "      <td>2</td>\n",
       "      <td>28985</td>\n",
       "      <td>2</td>\n",
       "      <td>1</td>\n",
       "    </tr>\n",
       "    <tr>\n",
       "      <th>2</th>\n",
       "      <td>2</td>\n",
       "      <td>9327</td>\n",
       "      <td>3</td>\n",
       "      <td>0</td>\n",
       "    </tr>\n",
       "    <tr>\n",
       "      <th>3</th>\n",
       "      <td>2</td>\n",
       "      <td>45918</td>\n",
       "      <td>4</td>\n",
       "      <td>1</td>\n",
       "    </tr>\n",
       "    <tr>\n",
       "      <th>4</th>\n",
       "      <td>2</td>\n",
       "      <td>30035</td>\n",
       "      <td>5</td>\n",
       "      <td>0</td>\n",
       "    </tr>\n",
       "  </tbody>\n",
       "</table>\n",
       "</div>"
      ],
      "text/plain": [
       "   order_id  product_id  add_to_cart_order  reordered\n",
       "0         2       33120                  1          1\n",
       "1         2       28985                  2          1\n",
       "2         2        9327                  3          0\n",
       "3         2       45918                  4          1\n",
       "4         2       30035                  5          0"
      ]
     },
     "execution_count": 13,
     "metadata": {},
     "output_type": "execute_result"
    }
   ],
   "source": [
    "order_product_prior.head()"
   ]
  },
  {
   "cell_type": "code",
   "execution_count": 14,
   "id": "ba004b20",
   "metadata": {},
   "outputs": [
    {
     "data": {
      "text/plain": [
       "(1384617, 4)"
      ]
     },
     "execution_count": 14,
     "metadata": {},
     "output_type": "execute_result"
    }
   ],
   "source": [
    "order_product_train.shape"
   ]
  },
  {
   "cell_type": "code",
   "execution_count": 15,
   "id": "cf3d0131",
   "metadata": {},
   "outputs": [
    {
     "data": {
      "text/html": [
       "<div>\n",
       "<style scoped>\n",
       "    .dataframe tbody tr th:only-of-type {\n",
       "        vertical-align: middle;\n",
       "    }\n",
       "\n",
       "    .dataframe tbody tr th {\n",
       "        vertical-align: top;\n",
       "    }\n",
       "\n",
       "    .dataframe thead th {\n",
       "        text-align: right;\n",
       "    }\n",
       "</style>\n",
       "<table border=\"1\" class=\"dataframe\">\n",
       "  <thead>\n",
       "    <tr style=\"text-align: right;\">\n",
       "      <th></th>\n",
       "      <th>order_id</th>\n",
       "      <th>product_id</th>\n",
       "      <th>add_to_cart_order</th>\n",
       "      <th>reordered</th>\n",
       "    </tr>\n",
       "  </thead>\n",
       "  <tbody>\n",
       "    <tr>\n",
       "      <th>0</th>\n",
       "      <td>1</td>\n",
       "      <td>49302</td>\n",
       "      <td>1</td>\n",
       "      <td>1</td>\n",
       "    </tr>\n",
       "    <tr>\n",
       "      <th>1</th>\n",
       "      <td>1</td>\n",
       "      <td>11109</td>\n",
       "      <td>2</td>\n",
       "      <td>1</td>\n",
       "    </tr>\n",
       "    <tr>\n",
       "      <th>2</th>\n",
       "      <td>1</td>\n",
       "      <td>10246</td>\n",
       "      <td>3</td>\n",
       "      <td>0</td>\n",
       "    </tr>\n",
       "    <tr>\n",
       "      <th>3</th>\n",
       "      <td>1</td>\n",
       "      <td>49683</td>\n",
       "      <td>4</td>\n",
       "      <td>0</td>\n",
       "    </tr>\n",
       "    <tr>\n",
       "      <th>4</th>\n",
       "      <td>1</td>\n",
       "      <td>43633</td>\n",
       "      <td>5</td>\n",
       "      <td>1</td>\n",
       "    </tr>\n",
       "  </tbody>\n",
       "</table>\n",
       "</div>"
      ],
      "text/plain": [
       "   order_id  product_id  add_to_cart_order  reordered\n",
       "0         1       49302                  1          1\n",
       "1         1       11109                  2          1\n",
       "2         1       10246                  3          0\n",
       "3         1       49683                  4          0\n",
       "4         1       43633                  5          1"
      ]
     },
     "execution_count": 15,
     "metadata": {},
     "output_type": "execute_result"
    }
   ],
   "source": [
    "order_product_train.head()"
   ]
  },
  {
   "cell_type": "code",
   "execution_count": 16,
   "id": "96582d64",
   "metadata": {},
   "outputs": [
    {
     "data": {
      "text/html": [
       "<div>\n",
       "<style scoped>\n",
       "    .dataframe tbody tr th:only-of-type {\n",
       "        vertical-align: middle;\n",
       "    }\n",
       "\n",
       "    .dataframe tbody tr th {\n",
       "        vertical-align: top;\n",
       "    }\n",
       "\n",
       "    .dataframe thead th {\n",
       "        text-align: right;\n",
       "    }\n",
       "</style>\n",
       "<table border=\"1\" class=\"dataframe\">\n",
       "  <thead>\n",
       "    <tr style=\"text-align: right;\">\n",
       "      <th></th>\n",
       "      <th>Arquivo</th>\n",
       "      <th>Total de Registros</th>\n",
       "    </tr>\n",
       "  </thead>\n",
       "  <tbody>\n",
       "    <tr>\n",
       "      <th>0</th>\n",
       "      <td>Aisles</td>\n",
       "      <td>134</td>\n",
       "    </tr>\n",
       "    <tr>\n",
       "      <th>1</th>\n",
       "      <td>Department</td>\n",
       "      <td>21</td>\n",
       "    </tr>\n",
       "    <tr>\n",
       "      <th>2</th>\n",
       "      <td>Product</td>\n",
       "      <td>49688</td>\n",
       "    </tr>\n",
       "    <tr>\n",
       "      <th>3</th>\n",
       "      <td>Order</td>\n",
       "      <td>3421083</td>\n",
       "    </tr>\n",
       "    <tr>\n",
       "      <th>4</th>\n",
       "      <td>Order_Product_Prior</td>\n",
       "      <td>32434489</td>\n",
       "    </tr>\n",
       "    <tr>\n",
       "      <th>5</th>\n",
       "      <td>Order_Product_Train</td>\n",
       "      <td>1384617</td>\n",
       "    </tr>\n",
       "  </tbody>\n",
       "</table>\n",
       "</div>"
      ],
      "text/plain": [
       "               Arquivo Total de Registros\n",
       "0               Aisles                134\n",
       "1           Department                 21\n",
       "2              Product              49688\n",
       "3                Order            3421083\n",
       "4  Order_Product_Prior           32434489\n",
       "5  Order_Product_Train            1384617"
      ]
     },
     "execution_count": 16,
     "metadata": {},
     "output_type": "execute_result"
    }
   ],
   "source": [
    "# Automatizando a análise de total de registros por dataset\n",
    "count_array = np.array([['Aisles', len(aisle)],\n",
    "                        ['Department', len(department)],\n",
    "                        ['Product', len(product)],\n",
    "                        ['Order', len(order)],\n",
    "                        ['Order_Product_Prior', len(order_product_prior)],\n",
    "                        ['Order_Product_Train', len(order_product_train)]])\n",
    "count_record = pd.DataFrame(count_array, columns = ['Arquivo', 'Total de Registros'])\n",
    "count_record"
   ]
  },
  {
   "cell_type": "markdown",
   "id": "3e5cc8a1",
   "metadata": {},
   "source": [
    "## Limpeza de Dados"
   ]
  },
  {
   "cell_type": "markdown",
   "id": "4289b713",
   "metadata": {},
   "source": [
    "### Verificando valores ausentes"
   ]
  },
  {
   "cell_type": "code",
   "execution_count": 17,
   "id": "871fca6e",
   "metadata": {},
   "outputs": [
    {
     "data": {
      "text/plain": [
       "aisle_id    0\n",
       "aisle       0\n",
       "dtype: int64"
      ]
     },
     "execution_count": 17,
     "metadata": {},
     "output_type": "execute_result"
    }
   ],
   "source": [
    "aisle.isna().sum()"
   ]
  },
  {
   "cell_type": "code",
   "execution_count": 18,
   "id": "9cebd96f",
   "metadata": {},
   "outputs": [
    {
     "data": {
      "text/plain": [
       "department_id    0\n",
       "department       0\n",
       "dtype: int64"
      ]
     },
     "execution_count": 18,
     "metadata": {},
     "output_type": "execute_result"
    }
   ],
   "source": [
    "department.isna().sum()"
   ]
  },
  {
   "cell_type": "code",
   "execution_count": 19,
   "id": "64b23bda",
   "metadata": {},
   "outputs": [
    {
     "data": {
      "text/plain": [
       "order_id                       0\n",
       "user_id                        0\n",
       "eval_set                       0\n",
       "order_number                   0\n",
       "order_dow                      0\n",
       "order_hour_of_day              0\n",
       "days_since_prior_order    206209\n",
       "dtype: int64"
      ]
     },
     "execution_count": 19,
     "metadata": {},
     "output_type": "execute_result"
    }
   ],
   "source": [
    "order.isna().sum()"
   ]
  },
  {
   "cell_type": "code",
   "execution_count": 20,
   "id": "48218da6",
   "metadata": {},
   "outputs": [
    {
     "data": {
      "text/plain": [
       "product_id       0\n",
       "product_name     0\n",
       "aisle_id         0\n",
       "department_id    0\n",
       "dtype: int64"
      ]
     },
     "execution_count": 20,
     "metadata": {},
     "output_type": "execute_result"
    }
   ],
   "source": [
    "product.isna().sum()"
   ]
  },
  {
   "cell_type": "code",
   "execution_count": 21,
   "id": "40725030",
   "metadata": {},
   "outputs": [
    {
     "data": {
      "text/plain": [
       "order_id             0\n",
       "product_id           0\n",
       "add_to_cart_order    0\n",
       "reordered            0\n",
       "dtype: int64"
      ]
     },
     "execution_count": 21,
     "metadata": {},
     "output_type": "execute_result"
    }
   ],
   "source": [
    "order_product_prior.isna().sum()"
   ]
  },
  {
   "cell_type": "code",
   "execution_count": 22,
   "id": "cb138032",
   "metadata": {},
   "outputs": [
    {
     "data": {
      "text/plain": [
       "order_id             0\n",
       "product_id           0\n",
       "add_to_cart_order    0\n",
       "reordered            0\n",
       "dtype: int64"
      ]
     },
     "execution_count": 22,
     "metadata": {},
     "output_type": "execute_result"
    }
   ],
   "source": [
    "order_product_train.isna().sum()"
   ]
  },
  {
   "cell_type": "markdown",
   "id": "65003bb6",
   "metadata": {},
   "source": [
    "### Feature Extraction"
   ]
  },
  {
   "cell_type": "code",
   "execution_count": 23,
   "id": "4cba6866",
   "metadata": {},
   "outputs": [],
   "source": [
    "# Merge de Tabelas para melhorar a análise\n",
    "order_product_prior = order_product_prior.merge(order, on = 'order_id', how = 'left')\n",
    "order_product_prior = order_product_prior.merge(product, on = 'product_id', how = 'left')\n",
    "order_product_prior = order_product_prior.merge(aisle, on = 'aisle_id', how = 'left')\n",
    "order_product_prior = order_product_prior.merge(department, on = 'department_id', how = 'left')"
   ]
  },
  {
   "cell_type": "code",
   "execution_count": 24,
   "id": "df6512c8",
   "metadata": {},
   "outputs": [
    {
     "data": {
      "text/html": [
       "<div>\n",
       "<style scoped>\n",
       "    .dataframe tbody tr th:only-of-type {\n",
       "        vertical-align: middle;\n",
       "    }\n",
       "\n",
       "    .dataframe tbody tr th {\n",
       "        vertical-align: top;\n",
       "    }\n",
       "\n",
       "    .dataframe thead th {\n",
       "        text-align: right;\n",
       "    }\n",
       "</style>\n",
       "<table border=\"1\" class=\"dataframe\">\n",
       "  <thead>\n",
       "    <tr style=\"text-align: right;\">\n",
       "      <th></th>\n",
       "      <th>order_id</th>\n",
       "      <th>product_id</th>\n",
       "      <th>add_to_cart_order</th>\n",
       "      <th>reordered</th>\n",
       "      <th>user_id</th>\n",
       "      <th>eval_set</th>\n",
       "      <th>order_number</th>\n",
       "      <th>order_dow</th>\n",
       "      <th>order_hour_of_day</th>\n",
       "      <th>days_since_prior_order</th>\n",
       "      <th>product_name</th>\n",
       "      <th>aisle_id</th>\n",
       "      <th>department_id</th>\n",
       "      <th>aisle</th>\n",
       "      <th>department</th>\n",
       "    </tr>\n",
       "  </thead>\n",
       "  <tbody>\n",
       "    <tr>\n",
       "      <th>0</th>\n",
       "      <td>2</td>\n",
       "      <td>33120</td>\n",
       "      <td>1</td>\n",
       "      <td>1</td>\n",
       "      <td>202279</td>\n",
       "      <td>prior</td>\n",
       "      <td>3</td>\n",
       "      <td>5</td>\n",
       "      <td>9</td>\n",
       "      <td>8.0</td>\n",
       "      <td>Organic Egg Whites</td>\n",
       "      <td>86</td>\n",
       "      <td>16</td>\n",
       "      <td>eggs</td>\n",
       "      <td>dairy eggs</td>\n",
       "    </tr>\n",
       "    <tr>\n",
       "      <th>1</th>\n",
       "      <td>2</td>\n",
       "      <td>28985</td>\n",
       "      <td>2</td>\n",
       "      <td>1</td>\n",
       "      <td>202279</td>\n",
       "      <td>prior</td>\n",
       "      <td>3</td>\n",
       "      <td>5</td>\n",
       "      <td>9</td>\n",
       "      <td>8.0</td>\n",
       "      <td>Michigan Organic Kale</td>\n",
       "      <td>83</td>\n",
       "      <td>4</td>\n",
       "      <td>fresh vegetables</td>\n",
       "      <td>produce</td>\n",
       "    </tr>\n",
       "    <tr>\n",
       "      <th>2</th>\n",
       "      <td>2</td>\n",
       "      <td>9327</td>\n",
       "      <td>3</td>\n",
       "      <td>0</td>\n",
       "      <td>202279</td>\n",
       "      <td>prior</td>\n",
       "      <td>3</td>\n",
       "      <td>5</td>\n",
       "      <td>9</td>\n",
       "      <td>8.0</td>\n",
       "      <td>Garlic Powder</td>\n",
       "      <td>104</td>\n",
       "      <td>13</td>\n",
       "      <td>spices seasonings</td>\n",
       "      <td>pantry</td>\n",
       "    </tr>\n",
       "    <tr>\n",
       "      <th>3</th>\n",
       "      <td>2</td>\n",
       "      <td>45918</td>\n",
       "      <td>4</td>\n",
       "      <td>1</td>\n",
       "      <td>202279</td>\n",
       "      <td>prior</td>\n",
       "      <td>3</td>\n",
       "      <td>5</td>\n",
       "      <td>9</td>\n",
       "      <td>8.0</td>\n",
       "      <td>Coconut Butter</td>\n",
       "      <td>19</td>\n",
       "      <td>13</td>\n",
       "      <td>oils vinegars</td>\n",
       "      <td>pantry</td>\n",
       "    </tr>\n",
       "    <tr>\n",
       "      <th>4</th>\n",
       "      <td>2</td>\n",
       "      <td>30035</td>\n",
       "      <td>5</td>\n",
       "      <td>0</td>\n",
       "      <td>202279</td>\n",
       "      <td>prior</td>\n",
       "      <td>3</td>\n",
       "      <td>5</td>\n",
       "      <td>9</td>\n",
       "      <td>8.0</td>\n",
       "      <td>Natural Sweetener</td>\n",
       "      <td>17</td>\n",
       "      <td>13</td>\n",
       "      <td>baking ingredients</td>\n",
       "      <td>pantry</td>\n",
       "    </tr>\n",
       "    <tr>\n",
       "      <th>5</th>\n",
       "      <td>2</td>\n",
       "      <td>17794</td>\n",
       "      <td>6</td>\n",
       "      <td>1</td>\n",
       "      <td>202279</td>\n",
       "      <td>prior</td>\n",
       "      <td>3</td>\n",
       "      <td>5</td>\n",
       "      <td>9</td>\n",
       "      <td>8.0</td>\n",
       "      <td>Carrots</td>\n",
       "      <td>83</td>\n",
       "      <td>4</td>\n",
       "      <td>fresh vegetables</td>\n",
       "      <td>produce</td>\n",
       "    </tr>\n",
       "    <tr>\n",
       "      <th>6</th>\n",
       "      <td>2</td>\n",
       "      <td>40141</td>\n",
       "      <td>7</td>\n",
       "      <td>1</td>\n",
       "      <td>202279</td>\n",
       "      <td>prior</td>\n",
       "      <td>3</td>\n",
       "      <td>5</td>\n",
       "      <td>9</td>\n",
       "      <td>8.0</td>\n",
       "      <td>Original Unflavored Gelatine Mix</td>\n",
       "      <td>105</td>\n",
       "      <td>13</td>\n",
       "      <td>doughs gelatins bake mixes</td>\n",
       "      <td>pantry</td>\n",
       "    </tr>\n",
       "    <tr>\n",
       "      <th>7</th>\n",
       "      <td>2</td>\n",
       "      <td>1819</td>\n",
       "      <td>8</td>\n",
       "      <td>1</td>\n",
       "      <td>202279</td>\n",
       "      <td>prior</td>\n",
       "      <td>3</td>\n",
       "      <td>5</td>\n",
       "      <td>9</td>\n",
       "      <td>8.0</td>\n",
       "      <td>All Natural No Stir Creamy Almond Butter</td>\n",
       "      <td>88</td>\n",
       "      <td>13</td>\n",
       "      <td>spreads</td>\n",
       "      <td>pantry</td>\n",
       "    </tr>\n",
       "    <tr>\n",
       "      <th>8</th>\n",
       "      <td>2</td>\n",
       "      <td>43668</td>\n",
       "      <td>9</td>\n",
       "      <td>0</td>\n",
       "      <td>202279</td>\n",
       "      <td>prior</td>\n",
       "      <td>3</td>\n",
       "      <td>5</td>\n",
       "      <td>9</td>\n",
       "      <td>8.0</td>\n",
       "      <td>Classic Blend Cole Slaw</td>\n",
       "      <td>123</td>\n",
       "      <td>4</td>\n",
       "      <td>packaged vegetables fruits</td>\n",
       "      <td>produce</td>\n",
       "    </tr>\n",
       "    <tr>\n",
       "      <th>9</th>\n",
       "      <td>3</td>\n",
       "      <td>33754</td>\n",
       "      <td>1</td>\n",
       "      <td>1</td>\n",
       "      <td>205970</td>\n",
       "      <td>prior</td>\n",
       "      <td>16</td>\n",
       "      <td>5</td>\n",
       "      <td>17</td>\n",
       "      <td>12.0</td>\n",
       "      <td>Total 2% with Strawberry Lowfat Greek Strained...</td>\n",
       "      <td>120</td>\n",
       "      <td>16</td>\n",
       "      <td>yogurt</td>\n",
       "      <td>dairy eggs</td>\n",
       "    </tr>\n",
       "  </tbody>\n",
       "</table>\n",
       "</div>"
      ],
      "text/plain": [
       "   order_id  product_id  add_to_cart_order  reordered  user_id eval_set  \\\n",
       "0         2       33120                  1          1   202279    prior   \n",
       "1         2       28985                  2          1   202279    prior   \n",
       "2         2        9327                  3          0   202279    prior   \n",
       "3         2       45918                  4          1   202279    prior   \n",
       "4         2       30035                  5          0   202279    prior   \n",
       "5         2       17794                  6          1   202279    prior   \n",
       "6         2       40141                  7          1   202279    prior   \n",
       "7         2        1819                  8          1   202279    prior   \n",
       "8         2       43668                  9          0   202279    prior   \n",
       "9         3       33754                  1          1   205970    prior   \n",
       "\n",
       "   order_number  order_dow  order_hour_of_day  days_since_prior_order  \\\n",
       "0             3          5                  9                     8.0   \n",
       "1             3          5                  9                     8.0   \n",
       "2             3          5                  9                     8.0   \n",
       "3             3          5                  9                     8.0   \n",
       "4             3          5                  9                     8.0   \n",
       "5             3          5                  9                     8.0   \n",
       "6             3          5                  9                     8.0   \n",
       "7             3          5                  9                     8.0   \n",
       "8             3          5                  9                     8.0   \n",
       "9            16          5                 17                    12.0   \n",
       "\n",
       "                                        product_name  aisle_id  department_id  \\\n",
       "0                                 Organic Egg Whites        86             16   \n",
       "1                              Michigan Organic Kale        83              4   \n",
       "2                                      Garlic Powder       104             13   \n",
       "3                                     Coconut Butter        19             13   \n",
       "4                                  Natural Sweetener        17             13   \n",
       "5                                            Carrots        83              4   \n",
       "6                   Original Unflavored Gelatine Mix       105             13   \n",
       "7           All Natural No Stir Creamy Almond Butter        88             13   \n",
       "8                            Classic Blend Cole Slaw       123              4   \n",
       "9  Total 2% with Strawberry Lowfat Greek Strained...       120             16   \n",
       "\n",
       "                        aisle  department  \n",
       "0                        eggs  dairy eggs  \n",
       "1            fresh vegetables     produce  \n",
       "2           spices seasonings      pantry  \n",
       "3               oils vinegars      pantry  \n",
       "4          baking ingredients      pantry  \n",
       "5            fresh vegetables     produce  \n",
       "6  doughs gelatins bake mixes      pantry  \n",
       "7                     spreads      pantry  \n",
       "8  packaged vegetables fruits     produce  \n",
       "9                      yogurt  dairy eggs  "
      ]
     },
     "execution_count": 24,
     "metadata": {},
     "output_type": "execute_result"
    }
   ],
   "source": [
    "order_product_prior.head(10)"
   ]
  },
  {
   "cell_type": "code",
   "execution_count": 25,
   "id": "871a7f54",
   "metadata": {},
   "outputs": [
    {
     "data": {
      "text/plain": [
       "order_id                        0\n",
       "product_id                      0\n",
       "add_to_cart_order               0\n",
       "reordered                       0\n",
       "user_id                         0\n",
       "eval_set                        0\n",
       "order_number                    0\n",
       "order_dow                       0\n",
       "order_hour_of_day               0\n",
       "days_since_prior_order    2078068\n",
       "product_name                    0\n",
       "aisle_id                        0\n",
       "department_id                   0\n",
       "aisle                           0\n",
       "department                      0\n",
       "dtype: int64"
      ]
     },
     "execution_count": 25,
     "metadata": {},
     "output_type": "execute_result"
    }
   ],
   "source": [
    "# Checando se o merge provocou mais valores ausentes\n",
    "order_product_prior.isna().sum()"
   ]
  },
  {
   "cell_type": "code",
   "execution_count": 26,
   "id": "9b8d2ebe",
   "metadata": {},
   "outputs": [
    {
     "data": {
      "text/plain": [
       "order_id                  0.00000\n",
       "product_id                0.00000\n",
       "add_to_cart_order         0.00000\n",
       "reordered                 0.00000\n",
       "user_id                   0.00000\n",
       "eval_set                  0.00000\n",
       "order_number              0.00000\n",
       "order_dow                 0.00000\n",
       "order_hour_of_day         0.00000\n",
       "days_since_prior_order    6.40697\n",
       "product_name              0.00000\n",
       "aisle_id                  0.00000\n",
       "department_id             0.00000\n",
       "aisle                     0.00000\n",
       "department                0.00000\n",
       "dtype: float64"
      ]
     },
     "execution_count": 26,
     "metadata": {},
     "output_type": "execute_result"
    }
   ],
   "source": [
    "# Gerando a porcentagem de valores ausentes\n",
    "order_product_prior.isna().sum() / len(order_product_prior) * 100"
   ]
  },
  {
   "cell_type": "markdown",
   "id": "7e11fede",
   "metadata": {},
   "source": [
    "1 - Percentual de valores ausentes em days_since_prior_order é baixo 6.4%\n",
    "2 - Variável será mantida, mas não usada no algoritmo MBA"
   ]
  },
  {
   "cell_type": "markdown",
   "id": "a4fee1df",
   "metadata": {},
   "source": [
    "### Merge da Tabela order_product_train com order, product, aisle e department"
   ]
  },
  {
   "cell_type": "code",
   "execution_count": 27,
   "id": "9497a90e",
   "metadata": {},
   "outputs": [
    {
     "name": "stdout",
     "output_type": "stream",
     "text": [
      "CPU times: user 1.11 s, sys: 268 ms, total: 1.38 s\n",
      "Wall time: 1.38 s\n"
     ]
    }
   ],
   "source": [
    "%%time\n",
    "order_product_train = order_product_train.merge(order, on = 'order_id', how = 'left')\n",
    "order_product_train = order_product_train.merge(product, on = 'product_id', how = 'left')\n",
    "order_product_train = order_product_train.merge(aisle, on = 'aisle_id', how = 'left')\n",
    "order_product_train = order_product_train.merge(department, on = 'department_id', how = 'left')"
   ]
  },
  {
   "cell_type": "code",
   "execution_count": 28,
   "id": "dfc4182a",
   "metadata": {},
   "outputs": [
    {
     "data": {
      "text/html": [
       "<div>\n",
       "<style scoped>\n",
       "    .dataframe tbody tr th:only-of-type {\n",
       "        vertical-align: middle;\n",
       "    }\n",
       "\n",
       "    .dataframe tbody tr th {\n",
       "        vertical-align: top;\n",
       "    }\n",
       "\n",
       "    .dataframe thead th {\n",
       "        text-align: right;\n",
       "    }\n",
       "</style>\n",
       "<table border=\"1\" class=\"dataframe\">\n",
       "  <thead>\n",
       "    <tr style=\"text-align: right;\">\n",
       "      <th></th>\n",
       "      <th>order_id</th>\n",
       "      <th>product_id</th>\n",
       "      <th>add_to_cart_order</th>\n",
       "      <th>reordered</th>\n",
       "      <th>user_id</th>\n",
       "      <th>eval_set</th>\n",
       "      <th>order_number</th>\n",
       "      <th>order_dow</th>\n",
       "      <th>order_hour_of_day</th>\n",
       "      <th>days_since_prior_order</th>\n",
       "      <th>product_name</th>\n",
       "      <th>aisle_id</th>\n",
       "      <th>department_id</th>\n",
       "      <th>aisle</th>\n",
       "      <th>department</th>\n",
       "    </tr>\n",
       "  </thead>\n",
       "  <tbody>\n",
       "    <tr>\n",
       "      <th>0</th>\n",
       "      <td>1</td>\n",
       "      <td>49302</td>\n",
       "      <td>1</td>\n",
       "      <td>1</td>\n",
       "      <td>112108</td>\n",
       "      <td>train</td>\n",
       "      <td>4</td>\n",
       "      <td>4</td>\n",
       "      <td>10</td>\n",
       "      <td>9.0</td>\n",
       "      <td>Bulgarian Yogurt</td>\n",
       "      <td>120</td>\n",
       "      <td>16</td>\n",
       "      <td>yogurt</td>\n",
       "      <td>dairy eggs</td>\n",
       "    </tr>\n",
       "    <tr>\n",
       "      <th>1</th>\n",
       "      <td>1</td>\n",
       "      <td>11109</td>\n",
       "      <td>2</td>\n",
       "      <td>1</td>\n",
       "      <td>112108</td>\n",
       "      <td>train</td>\n",
       "      <td>4</td>\n",
       "      <td>4</td>\n",
       "      <td>10</td>\n",
       "      <td>9.0</td>\n",
       "      <td>Organic 4% Milk Fat Whole Milk Cottage Cheese</td>\n",
       "      <td>108</td>\n",
       "      <td>16</td>\n",
       "      <td>other creams cheeses</td>\n",
       "      <td>dairy eggs</td>\n",
       "    </tr>\n",
       "    <tr>\n",
       "      <th>2</th>\n",
       "      <td>1</td>\n",
       "      <td>10246</td>\n",
       "      <td>3</td>\n",
       "      <td>0</td>\n",
       "      <td>112108</td>\n",
       "      <td>train</td>\n",
       "      <td>4</td>\n",
       "      <td>4</td>\n",
       "      <td>10</td>\n",
       "      <td>9.0</td>\n",
       "      <td>Organic Celery Hearts</td>\n",
       "      <td>83</td>\n",
       "      <td>4</td>\n",
       "      <td>fresh vegetables</td>\n",
       "      <td>produce</td>\n",
       "    </tr>\n",
       "    <tr>\n",
       "      <th>3</th>\n",
       "      <td>1</td>\n",
       "      <td>49683</td>\n",
       "      <td>4</td>\n",
       "      <td>0</td>\n",
       "      <td>112108</td>\n",
       "      <td>train</td>\n",
       "      <td>4</td>\n",
       "      <td>4</td>\n",
       "      <td>10</td>\n",
       "      <td>9.0</td>\n",
       "      <td>Cucumber Kirby</td>\n",
       "      <td>83</td>\n",
       "      <td>4</td>\n",
       "      <td>fresh vegetables</td>\n",
       "      <td>produce</td>\n",
       "    </tr>\n",
       "    <tr>\n",
       "      <th>4</th>\n",
       "      <td>1</td>\n",
       "      <td>43633</td>\n",
       "      <td>5</td>\n",
       "      <td>1</td>\n",
       "      <td>112108</td>\n",
       "      <td>train</td>\n",
       "      <td>4</td>\n",
       "      <td>4</td>\n",
       "      <td>10</td>\n",
       "      <td>9.0</td>\n",
       "      <td>Lightly Smoked Sardines in Olive Oil</td>\n",
       "      <td>95</td>\n",
       "      <td>15</td>\n",
       "      <td>canned meat seafood</td>\n",
       "      <td>canned goods</td>\n",
       "    </tr>\n",
       "    <tr>\n",
       "      <th>5</th>\n",
       "      <td>1</td>\n",
       "      <td>13176</td>\n",
       "      <td>6</td>\n",
       "      <td>0</td>\n",
       "      <td>112108</td>\n",
       "      <td>train</td>\n",
       "      <td>4</td>\n",
       "      <td>4</td>\n",
       "      <td>10</td>\n",
       "      <td>9.0</td>\n",
       "      <td>Bag of Organic Bananas</td>\n",
       "      <td>24</td>\n",
       "      <td>4</td>\n",
       "      <td>fresh fruits</td>\n",
       "      <td>produce</td>\n",
       "    </tr>\n",
       "    <tr>\n",
       "      <th>6</th>\n",
       "      <td>1</td>\n",
       "      <td>47209</td>\n",
       "      <td>7</td>\n",
       "      <td>0</td>\n",
       "      <td>112108</td>\n",
       "      <td>train</td>\n",
       "      <td>4</td>\n",
       "      <td>4</td>\n",
       "      <td>10</td>\n",
       "      <td>9.0</td>\n",
       "      <td>Organic Hass Avocado</td>\n",
       "      <td>24</td>\n",
       "      <td>4</td>\n",
       "      <td>fresh fruits</td>\n",
       "      <td>produce</td>\n",
       "    </tr>\n",
       "    <tr>\n",
       "      <th>7</th>\n",
       "      <td>1</td>\n",
       "      <td>22035</td>\n",
       "      <td>8</td>\n",
       "      <td>1</td>\n",
       "      <td>112108</td>\n",
       "      <td>train</td>\n",
       "      <td>4</td>\n",
       "      <td>4</td>\n",
       "      <td>10</td>\n",
       "      <td>9.0</td>\n",
       "      <td>Organic Whole String Cheese</td>\n",
       "      <td>21</td>\n",
       "      <td>16</td>\n",
       "      <td>packaged cheese</td>\n",
       "      <td>dairy eggs</td>\n",
       "    </tr>\n",
       "    <tr>\n",
       "      <th>8</th>\n",
       "      <td>36</td>\n",
       "      <td>39612</td>\n",
       "      <td>1</td>\n",
       "      <td>0</td>\n",
       "      <td>79431</td>\n",
       "      <td>train</td>\n",
       "      <td>23</td>\n",
       "      <td>6</td>\n",
       "      <td>18</td>\n",
       "      <td>30.0</td>\n",
       "      <td>Grated Pecorino Romano Cheese</td>\n",
       "      <td>2</td>\n",
       "      <td>16</td>\n",
       "      <td>specialty cheeses</td>\n",
       "      <td>dairy eggs</td>\n",
       "    </tr>\n",
       "    <tr>\n",
       "      <th>9</th>\n",
       "      <td>36</td>\n",
       "      <td>19660</td>\n",
       "      <td>2</td>\n",
       "      <td>1</td>\n",
       "      <td>79431</td>\n",
       "      <td>train</td>\n",
       "      <td>23</td>\n",
       "      <td>6</td>\n",
       "      <td>18</td>\n",
       "      <td>30.0</td>\n",
       "      <td>Spring Water</td>\n",
       "      <td>115</td>\n",
       "      <td>7</td>\n",
       "      <td>water seltzer sparkling water</td>\n",
       "      <td>beverages</td>\n",
       "    </tr>\n",
       "  </tbody>\n",
       "</table>\n",
       "</div>"
      ],
      "text/plain": [
       "   order_id  product_id  add_to_cart_order  reordered  user_id eval_set  \\\n",
       "0         1       49302                  1          1   112108    train   \n",
       "1         1       11109                  2          1   112108    train   \n",
       "2         1       10246                  3          0   112108    train   \n",
       "3         1       49683                  4          0   112108    train   \n",
       "4         1       43633                  5          1   112108    train   \n",
       "5         1       13176                  6          0   112108    train   \n",
       "6         1       47209                  7          0   112108    train   \n",
       "7         1       22035                  8          1   112108    train   \n",
       "8        36       39612                  1          0    79431    train   \n",
       "9        36       19660                  2          1    79431    train   \n",
       "\n",
       "   order_number  order_dow  order_hour_of_day  days_since_prior_order  \\\n",
       "0             4          4                 10                     9.0   \n",
       "1             4          4                 10                     9.0   \n",
       "2             4          4                 10                     9.0   \n",
       "3             4          4                 10                     9.0   \n",
       "4             4          4                 10                     9.0   \n",
       "5             4          4                 10                     9.0   \n",
       "6             4          4                 10                     9.0   \n",
       "7             4          4                 10                     9.0   \n",
       "8            23          6                 18                    30.0   \n",
       "9            23          6                 18                    30.0   \n",
       "\n",
       "                                    product_name  aisle_id  department_id  \\\n",
       "0                               Bulgarian Yogurt       120             16   \n",
       "1  Organic 4% Milk Fat Whole Milk Cottage Cheese       108             16   \n",
       "2                          Organic Celery Hearts        83              4   \n",
       "3                                 Cucumber Kirby        83              4   \n",
       "4           Lightly Smoked Sardines in Olive Oil        95             15   \n",
       "5                         Bag of Organic Bananas        24              4   \n",
       "6                           Organic Hass Avocado        24              4   \n",
       "7                    Organic Whole String Cheese        21             16   \n",
       "8                  Grated Pecorino Romano Cheese         2             16   \n",
       "9                                   Spring Water       115              7   \n",
       "\n",
       "                           aisle    department  \n",
       "0                         yogurt    dairy eggs  \n",
       "1           other creams cheeses    dairy eggs  \n",
       "2               fresh vegetables       produce  \n",
       "3               fresh vegetables       produce  \n",
       "4            canned meat seafood  canned goods  \n",
       "5                   fresh fruits       produce  \n",
       "6                   fresh fruits       produce  \n",
       "7                packaged cheese    dairy eggs  \n",
       "8              specialty cheeses    dairy eggs  \n",
       "9  water seltzer sparkling water     beverages  "
      ]
     },
     "execution_count": 28,
     "metadata": {},
     "output_type": "execute_result"
    }
   ],
   "source": [
    "order_product_train.head(10)"
   ]
  },
  {
   "cell_type": "code",
   "execution_count": 29,
   "id": "2f682165",
   "metadata": {},
   "outputs": [
    {
     "data": {
      "text/plain": [
       "order_id                  0\n",
       "product_id                0\n",
       "add_to_cart_order         0\n",
       "reordered                 0\n",
       "user_id                   0\n",
       "eval_set                  0\n",
       "order_number              0\n",
       "order_dow                 0\n",
       "order_hour_of_day         0\n",
       "days_since_prior_order    0\n",
       "product_name              0\n",
       "aisle_id                  0\n",
       "department_id             0\n",
       "aisle                     0\n",
       "department                0\n",
       "dtype: int64"
      ]
     },
     "execution_count": 29,
     "metadata": {},
     "output_type": "execute_result"
    }
   ],
   "source": [
    "order_product_train.isna().sum()"
   ]
  },
  {
   "cell_type": "code",
   "execution_count": 30,
   "id": "32f1a436",
   "metadata": {},
   "outputs": [
    {
     "name": "stdout",
     "output_type": "stream",
     "text": [
      "CPU times: user 1min 9s, sys: 2.18 s, total: 1min 11s\n",
      "Wall time: 1min 11s\n"
     ]
    }
   ],
   "source": [
    "%%time\n",
    "order_grouped = pd.DataFrame(order_product_prior.groupby('order_id')['product_id'])"
   ]
  },
  {
   "cell_type": "code",
   "execution_count": 31,
   "id": "73023b07",
   "metadata": {},
   "outputs": [
    {
     "data": {
      "text/plain": [
       "(3214874, 2)"
      ]
     },
     "execution_count": 31,
     "metadata": {},
     "output_type": "execute_result"
    }
   ],
   "source": [
    "order_grouped.shape"
   ]
  },
  {
   "cell_type": "code",
   "execution_count": 32,
   "id": "2834c39a",
   "metadata": {},
   "outputs": [
    {
     "data": {
      "text/plain": [
       "3214874"
      ]
     },
     "execution_count": 32,
     "metadata": {},
     "output_type": "execute_result"
    }
   ],
   "source": [
    "len(order_grouped[0])"
   ]
  },
  {
   "cell_type": "code",
   "execution_count": 33,
   "id": "8902679c",
   "metadata": {},
   "outputs": [
    {
     "data": {
      "text/html": [
       "<div>\n",
       "<style scoped>\n",
       "    .dataframe tbody tr th:only-of-type {\n",
       "        vertical-align: middle;\n",
       "    }\n",
       "\n",
       "    .dataframe tbody tr th {\n",
       "        vertical-align: top;\n",
       "    }\n",
       "\n",
       "    .dataframe thead th {\n",
       "        text-align: right;\n",
       "    }\n",
       "</style>\n",
       "<table border=\"1\" class=\"dataframe\">\n",
       "  <thead>\n",
       "    <tr style=\"text-align: right;\">\n",
       "      <th></th>\n",
       "      <th>0</th>\n",
       "      <th>1</th>\n",
       "    </tr>\n",
       "  </thead>\n",
       "  <tbody>\n",
       "    <tr>\n",
       "      <th>0</th>\n",
       "      <td>2</td>\n",
       "      <td>0    33120\n",
       "1    28985\n",
       "2     9327\n",
       "3    45918\n",
       "4 ...</td>\n",
       "    </tr>\n",
       "    <tr>\n",
       "      <th>1</th>\n",
       "      <td>3</td>\n",
       "      <td>9     33754\n",
       "10    24838\n",
       "11    17704\n",
       "12    2190...</td>\n",
       "    </tr>\n",
       "    <tr>\n",
       "      <th>2</th>\n",
       "      <td>4</td>\n",
       "      <td>17    46842\n",
       "18    26434\n",
       "19    39758\n",
       "20    2776...</td>\n",
       "    </tr>\n",
       "    <tr>\n",
       "      <th>3</th>\n",
       "      <td>5</td>\n",
       "      <td>30    13176\n",
       "31    15005\n",
       "32    47329\n",
       "33    2796...</td>\n",
       "    </tr>\n",
       "    <tr>\n",
       "      <th>4</th>\n",
       "      <td>6</td>\n",
       "      <td>56    40462\n",
       "57    15873\n",
       "58    41897\n",
       "Name: prod...</td>\n",
       "    </tr>\n",
       "  </tbody>\n",
       "</table>\n",
       "</div>"
      ],
      "text/plain": [
       "   0                                                  1\n",
       "0  2  0    33120\n",
       "1    28985\n",
       "2     9327\n",
       "3    45918\n",
       "4 ...\n",
       "1  3  9     33754\n",
       "10    24838\n",
       "11    17704\n",
       "12    2190...\n",
       "2  4  17    46842\n",
       "18    26434\n",
       "19    39758\n",
       "20    2776...\n",
       "3  5  30    13176\n",
       "31    15005\n",
       "32    47329\n",
       "33    2796...\n",
       "4  6  56    40462\n",
       "57    15873\n",
       "58    41897\n",
       "Name: prod..."
      ]
     },
     "execution_count": 33,
     "metadata": {},
     "output_type": "execute_result"
    }
   ],
   "source": [
    "order_grouped.head()"
   ]
  },
  {
   "cell_type": "code",
   "execution_count": 34,
   "id": "c63969a0",
   "metadata": {},
   "outputs": [],
   "source": [
    "# Listas\n",
    "prod = []"
   ]
  },
  {
   "cell_type": "code",
   "execution_count": 35,
   "id": "47d95cd3",
   "metadata": {},
   "outputs": [
    {
     "name": "stdout",
     "output_type": "stream",
     "text": [
      "CPU times: user 4min 39s, sys: 480 ms, total: 4min 40s\n",
      "Wall time: 4min 40s\n"
     ]
    }
   ],
   "source": [
    "%%time\n",
    "for i in range(len(order_grouped[0])):\n",
    "    prod.append(list(order_grouped.iloc[i][1]))"
   ]
  },
  {
   "cell_type": "code",
   "execution_count": 36,
   "id": "a96f3e74",
   "metadata": {},
   "outputs": [],
   "source": [
    "prod_ = prod"
   ]
  },
  {
   "cell_type": "code",
   "execution_count": 37,
   "id": "4df56f11",
   "metadata": {},
   "outputs": [],
   "source": [
    "order_ = order_grouped[0]"
   ]
  },
  {
   "cell_type": "code",
   "execution_count": 38,
   "id": "080a0c2e",
   "metadata": {},
   "outputs": [],
   "source": [
    "# Prepara o dataframe\n",
    "transactions = pd.DataFrame({'OrderID' : order_, 'Products' : prod_})"
   ]
  },
  {
   "cell_type": "code",
   "execution_count": 39,
   "id": "98bf2f67",
   "metadata": {},
   "outputs": [
    {
     "data": {
      "text/html": [
       "<div>\n",
       "<style scoped>\n",
       "    .dataframe tbody tr th:only-of-type {\n",
       "        vertical-align: middle;\n",
       "    }\n",
       "\n",
       "    .dataframe tbody tr th {\n",
       "        vertical-align: top;\n",
       "    }\n",
       "\n",
       "    .dataframe thead th {\n",
       "        text-align: right;\n",
       "    }\n",
       "</style>\n",
       "<table border=\"1\" class=\"dataframe\">\n",
       "  <thead>\n",
       "    <tr style=\"text-align: right;\">\n",
       "      <th></th>\n",
       "      <th>OrderID</th>\n",
       "      <th>Products</th>\n",
       "    </tr>\n",
       "  </thead>\n",
       "  <tbody>\n",
       "    <tr>\n",
       "      <th>0</th>\n",
       "      <td>2</td>\n",
       "      <td>[33120, 28985, 9327, 45918, 30035, 17794, 4014...</td>\n",
       "    </tr>\n",
       "    <tr>\n",
       "      <th>1</th>\n",
       "      <td>3</td>\n",
       "      <td>[33754, 24838, 17704, 21903, 17668, 46667, 174...</td>\n",
       "    </tr>\n",
       "    <tr>\n",
       "      <th>2</th>\n",
       "      <td>4</td>\n",
       "      <td>[46842, 26434, 39758, 27761, 10054, 21351, 225...</td>\n",
       "    </tr>\n",
       "    <tr>\n",
       "      <th>3</th>\n",
       "      <td>5</td>\n",
       "      <td>[13176, 15005, 47329, 27966, 23909, 48370, 132...</td>\n",
       "    </tr>\n",
       "    <tr>\n",
       "      <th>4</th>\n",
       "      <td>6</td>\n",
       "      <td>[40462, 15873, 41897]</td>\n",
       "    </tr>\n",
       "    <tr>\n",
       "      <th>5</th>\n",
       "      <td>7</td>\n",
       "      <td>[34050, 46802]</td>\n",
       "    </tr>\n",
       "    <tr>\n",
       "      <th>6</th>\n",
       "      <td>8</td>\n",
       "      <td>[23423]</td>\n",
       "    </tr>\n",
       "    <tr>\n",
       "      <th>7</th>\n",
       "      <td>9</td>\n",
       "      <td>[21405, 47890, 11182, 2014, 29193, 34203, 1499...</td>\n",
       "    </tr>\n",
       "    <tr>\n",
       "      <th>8</th>\n",
       "      <td>10</td>\n",
       "      <td>[24852, 4796, 31717, 47766, 4605, 1529, 21137,...</td>\n",
       "    </tr>\n",
       "    <tr>\n",
       "      <th>9</th>\n",
       "      <td>11</td>\n",
       "      <td>[30162, 27085, 5994, 1313, 31506]</td>\n",
       "    </tr>\n",
       "  </tbody>\n",
       "</table>\n",
       "</div>"
      ],
      "text/plain": [
       "   OrderID                                           Products\n",
       "0        2  [33120, 28985, 9327, 45918, 30035, 17794, 4014...\n",
       "1        3  [33754, 24838, 17704, 21903, 17668, 46667, 174...\n",
       "2        4  [46842, 26434, 39758, 27761, 10054, 21351, 225...\n",
       "3        5  [13176, 15005, 47329, 27966, 23909, 48370, 132...\n",
       "4        6                              [40462, 15873, 41897]\n",
       "5        7                                     [34050, 46802]\n",
       "6        8                                            [23423]\n",
       "7        9  [21405, 47890, 11182, 2014, 29193, 34203, 1499...\n",
       "8       10  [24852, 4796, 31717, 47766, 4605, 1529, 21137,...\n",
       "9       11                  [30162, 27085, 5994, 1313, 31506]"
      ]
     },
     "execution_count": 39,
     "metadata": {},
     "output_type": "execute_result"
    }
   ],
   "source": [
    "transactions.head(10)"
   ]
  },
  {
   "cell_type": "markdown",
   "id": "94212f98",
   "metadata": {},
   "source": [
    "### Verificando o número de pedidos mais frequente"
   ]
  },
  {
   "cell_type": "code",
   "execution_count": 40,
   "id": "cf6af06e",
   "metadata": {},
   "outputs": [],
   "source": [
    "# Agrupa os dados por ususário e número de pedido, filtrando pelo maior valor\n",
    "ord_max_count = order.groupby(\"user_id\")['order_number'].aggregate(np.max).reset_index()"
   ]
  },
  {
   "cell_type": "code",
   "execution_count": 41,
   "id": "8451decc",
   "metadata": {},
   "outputs": [
    {
     "data": {
      "text/plain": [
       "4    23986\n",
       "5    19590\n",
       "6    16165\n",
       "7    13850\n",
       "8    11700\n",
       "Name: order_number, dtype: int64"
      ]
     },
     "execution_count": 41,
     "metadata": {},
     "output_type": "execute_result"
    }
   ],
   "source": [
    "# Contagem por número de pedidos\n",
    "ord_max_count = ord_max_count.order_number.value_counts()\n",
    "ord_max_count.head()"
   ]
  },
  {
   "cell_type": "code",
   "execution_count": 42,
   "id": "bfbef74d",
   "metadata": {},
   "outputs": [
    {
     "data": {
      "image/png": "[encoded data removed]",
      "text/plain": [
       "<Figure size 1440x576 with 1 Axes>"
      ]
     },
     "metadata": {},
     "output_type": "display_data"
    }
   ],
   "source": [
    "# Plot\n",
    "plt.style.use('ggplot')\n",
    "plt.figure(figsize = (20,8))\n",
    "plt.bar(ord_max_count.index, ord_max_count.values, color = 'indigo', width = 0.6)\n",
    "plt.xticks(ord_max_count.index, rotation = 'vertical')\n",
    "plt.ylabel('Frequência', fontsize = 14, fontweight = 'bold')\n",
    "plt.xlabel('Número de pedidos mais frequente entre os usuários', fontsize = 14, fontweight = 'bold')\n",
    "plt.show()"
   ]
  },
  {
   "cell_type": "markdown",
   "id": "c44ee4e8",
   "metadata": {},
   "source": [
    "### Verificando o dia da semana com maior número de pedidos"
   ]
  },
  {
   "cell_type": "code",
   "execution_count": 43,
   "id": "555002e2",
   "metadata": {},
   "outputs": [],
   "source": [
    "# Frequencias de pedidos por dia da semana - DOW = Day of the Week\n",
    "x = [0,1,2,3,4,5,6]\n",
    "y = [order[order['order_dow']==0].shape[0],\n",
    "     order[order['order_dow']==1].shape[0],\n",
    "     order[order['order_dow']==2].shape[0],\n",
    "     order[order['order_dow']==3].shape[0],\n",
    "     order[order['order_dow']==4].shape[0],\n",
    "     order[order['order_dow']==5].shape[0],\n",
    "     order[order['order_dow']==6].shape[0]]"
   ]
  },
  {
   "cell_type": "code",
   "execution_count": 44,
   "id": "f322d968",
   "metadata": {},
   "outputs": [
    {
     "data": {
      "image/png": "[encoded data removed]",
      "text/plain": [
       "<Figure size 720x360 with 1 Axes>"
      ]
     },
     "metadata": {},
     "output_type": "display_data"
    }
   ],
   "source": [
    "# Plot\n",
    "plt.figure(figsize = (10,5))\n",
    "plt.bar(x,y, color = 'indigo')\n",
    "plt.xlabel('Dia da Semana', fontsize = 14, fontweight = 'bold')\n",
    "plt.ylabel('Frequência', fontsize = 14, fontweight = 'bold')\n",
    "plt.xticks(x, ['Domingo', 'Segunda', 'Terça', 'Quarta', 'Quinta', 'Sexta', 'Sábado'], rotation = 'vertical')\n",
    "plt.show()"
   ]
  },
  {
   "cell_type": "markdown",
   "id": "bfc9fef4",
   "metadata": {},
   "source": [
    "### Hora do dia com maior número de pedidos"
   ]
  },
  {
   "cell_type": "code",
   "execution_count": 45,
   "id": "16f503c8",
   "metadata": {},
   "outputs": [],
   "source": [
    "# Frequência de pedidos pela hora do dia\n",
    "x = list(range(0,24))\n",
    "y = []\n",
    "for i in range(24):\n",
    "    y.append(order[order['order_hour_of_day']==i].shape[0])"
   ]
  },
  {
   "cell_type": "code",
   "execution_count": 46,
   "id": "6b40ed21",
   "metadata": {},
   "outputs": [
    {
     "data": {
      "image/png": "[encoded data removed]",
      "text/plain": [
       "<Figure size 1440x360 with 1 Axes>"
      ]
     },
     "metadata": {},
     "output_type": "display_data"
    }
   ],
   "source": [
    "# Plot\n",
    "plt.figure(figsize = (20,5))\n",
    "plt.bar(x,y,color = 'indigo')\n",
    "plt.xticks(np.arange(0,24,1))\n",
    "plt.xlabel('Hora do Dia', fontsize = 14, fontweight = 'bold')\n",
    "plt.ylabel('Frequência', fontsize = 14, fontweight = 'bold')\n",
    "plt.show()"
   ]
  },
  {
   "cell_type": "code",
   "execution_count": 47,
   "id": "cbcc39cf",
   "metadata": {},
   "outputs": [],
   "source": [
    "### Verificando qual departamento tem o maior número de pedidos\n",
    "dept_cnt = order_product_prior['department'].value_counts()"
   ]
  },
  {
   "cell_type": "code",
   "execution_count": 48,
   "id": "93eeb1e2",
   "metadata": {},
   "outputs": [
    {
     "data": {
      "image/png": "[encoded data removed]",
      "text/plain": [
       "<Figure size 1440x720 with 1 Axes>"
      ]
     },
     "metadata": {},
     "output_type": "display_data"
    }
   ],
   "source": [
    "# Plot\n",
    "fig = plt.figure(figsize = (20,10))\n",
    "dept_cnt.plot(kind = \"bar\", color = 'maroon')\n",
    "plt.xticks(rotation = 90)\n",
    "plt.xlabel('Departamento', fontsize = 14, fontweight = 'bold')\n",
    "plt.ylabel('Frequência', fontsize = 14, fontweight = 'bold')\n",
    "plt.show()"
   ]
  },
  {
   "cell_type": "markdown",
   "id": "778db120",
   "metadata": {},
   "source": [
    "### Verificando os 20 principais corredores por frequência de pedidos"
   ]
  },
  {
   "cell_type": "code",
   "execution_count": 49,
   "id": "9e6ad832",
   "metadata": {},
   "outputs": [],
   "source": [
    "# Os 20 principais corredores e sua frequência de pedidos\n",
    "aisle_cnt = order_product_prior['aisle'].value_counts()"
   ]
  },
  {
   "cell_type": "code",
   "execution_count": 50,
   "id": "1776fb64",
   "metadata": {},
   "outputs": [
    {
     "data": {
      "image/png": "[encoded data removed]",
      "text/plain": [
       "<Figure size 1440x720 with 1 Axes>"
      ]
     },
     "metadata": {},
     "output_type": "display_data"
    }
   ],
   "source": [
    "# Plot\n",
    "fig = plt.figure(figsize = (20,10))\n",
    "aisle_cnt[0:20].plot(kind = \"bar\", color = 'maroon')\n",
    "plt.xticks(rotation = 90)\n",
    "plt.xlabel('Corredor', fontsize = 14, fontweight = 'bold')\n",
    "plt.ylabel('Frequência', fontsize = 14, fontweight = 'bold')\n",
    "plt.show()"
   ]
  },
  {
   "cell_type": "markdown",
   "id": "0413e696",
   "metadata": {},
   "source": [
    "### 20 principais produtos por frequência de pedidos"
   ]
  },
  {
   "cell_type": "code",
   "execution_count": 51,
   "id": "7b549b9d",
   "metadata": {},
   "outputs": [],
   "source": [
    "# 20 principais produtos por frequência de pedido\n",
    "prod_cont = order_product_prior['product_name'].value_counts()"
   ]
  },
  {
   "cell_type": "code",
   "execution_count": 52,
   "id": "a7007aae",
   "metadata": {},
   "outputs": [
    {
     "data": {
      "image/png": "[encoded data removed]",
      "text/plain": [
       "<Figure size 1440x720 with 1 Axes>"
      ]
     },
     "metadata": {},
     "output_type": "display_data"
    }
   ],
   "source": [
    "fig = plt.figure(figsize = (20,10))\n",
    "prod_cont[0:20].plot(kind = \"bar\", color = 'maroon')\n",
    "plt.xticks(rotation = 90)\n",
    "plt.xlabel('Produto', fontsize = 14, fontweight = 'bold')\n",
    "plt.ylabel('Frequência', fontsize = 14, fontweight = 'bold')\n",
    "plt.show()"
   ]
  },
  {
   "cell_type": "markdown",
   "id": "500d427a",
   "metadata": {},
   "source": [
    "### Análise de novos pedidos semelhantes a pedidos anteriores"
   ]
  },
  {
   "cell_type": "code",
   "execution_count": 53,
   "id": "8a7c220e",
   "metadata": {},
   "outputs": [
    {
     "name": "stdout",
     "output_type": "stream",
     "text": [
      "CPU times: user 3.88 s, sys: 272 ms, total: 4.15 s\n",
      "Wall time: 4.14 s\n"
     ]
    }
   ],
   "source": [
    "%%time\n",
    "temp_df = order_product_prior.groupby(\"product_name\")[\"reordered\"].agg(['count', 'sum']).rename(columns = {'count':'total','sum':'reorders'})\n",
    "temp_df = temp_df.sort_values('total', ascending = False).reset_index()"
   ]
  },
  {
   "cell_type": "code",
   "execution_count": 54,
   "id": "e63a15f6",
   "metadata": {},
   "outputs": [],
   "source": [
    "# Prepação das listas\n",
    "labels = list(temp_df.product_name[0:20])\n",
    "reorder = list(temp_df.reorders[0:20])\n",
    "total = list(temp_df.total[0:20])"
   ]
  },
  {
   "cell_type": "code",
   "execution_count": 55,
   "id": "0163a547",
   "metadata": {},
   "outputs": [
    {
     "data": {
      "image/png": "[encoded data removed]",
      "text/plain": [
       "<Figure size 1440x720 with 1 Axes>"
      ]
     },
     "metadata": {},
     "output_type": "display_data"
    }
   ],
   "source": [
    "# Plot  \n",
    "width = 0.35 \n",
    "fig, ax = plt.subplots(figsize = (20,10))\n",
    "ax.bar(labels, reorder, width, label = 'Reorder', color = 'green')\n",
    "ax.bar(labels, total, width, bottom = reorder, label = 'Total', color = 'purple')\n",
    "ax.set_ylabel('Total de Pedidos', fontsize = 14, fontweight = 'bold')\n",
    "ax.legend()\n",
    "ax.set_title(\"Produtos Mais Populares\")\n",
    "plt.xticks(rotation = 90)\n",
    "plt.show()"
   ]
  },
  {
   "cell_type": "markdown",
   "id": "654e3b46",
   "metadata": {},
   "source": [
    "### Análise de reorder por departamento ao longo do tempo"
   ]
  },
  {
   "cell_type": "code",
   "execution_count": 56,
   "id": "4fec838e",
   "metadata": {},
   "outputs": [
    {
     "data": {
      "text/html": [
       "<div>\n",
       "<style scoped>\n",
       "    .dataframe tbody tr th:only-of-type {\n",
       "        vertical-align: middle;\n",
       "    }\n",
       "\n",
       "    .dataframe tbody tr th {\n",
       "        vertical-align: top;\n",
       "    }\n",
       "\n",
       "    .dataframe thead th {\n",
       "        text-align: right;\n",
       "    }\n",
       "</style>\n",
       "<table border=\"1\" class=\"dataframe\">\n",
       "  <thead>\n",
       "    <tr style=\"text-align: right;\">\n",
       "      <th></th>\n",
       "      <th>department</th>\n",
       "      <th>reordered</th>\n",
       "    </tr>\n",
       "  </thead>\n",
       "  <tbody>\n",
       "    <tr>\n",
       "      <th>0</th>\n",
       "      <td>alcohol</td>\n",
       "      <td>0.569924</td>\n",
       "    </tr>\n",
       "    <tr>\n",
       "      <th>1</th>\n",
       "      <td>babies</td>\n",
       "      <td>0.578971</td>\n",
       "    </tr>\n",
       "    <tr>\n",
       "      <th>2</th>\n",
       "      <td>bakery</td>\n",
       "      <td>0.628141</td>\n",
       "    </tr>\n",
       "    <tr>\n",
       "      <th>3</th>\n",
       "      <td>beverages</td>\n",
       "      <td>0.653460</td>\n",
       "    </tr>\n",
       "    <tr>\n",
       "      <th>4</th>\n",
       "      <td>breakfast</td>\n",
       "      <td>0.560922</td>\n",
       "    </tr>\n",
       "  </tbody>\n",
       "</table>\n",
       "</div>"
      ],
      "text/plain": [
       "  department  reordered\n",
       "0    alcohol   0.569924\n",
       "1     babies   0.578971\n",
       "2     bakery   0.628141\n",
       "3  beverages   0.653460\n",
       "4  breakfast   0.560922"
      ]
     },
     "execution_count": 56,
     "metadata": {},
     "output_type": "execute_result"
    }
   ],
   "source": [
    "# Agrupando os dados por departamento e reorder\n",
    "grouped_df = order_product_prior.groupby([\"department\"])[\"reordered\"].aggregate(\"mean\").reset_index()\n",
    "grouped_df.head()"
   ]
  },
  {
   "cell_type": "code",
   "execution_count": 57,
   "id": "1132f534",
   "metadata": {},
   "outputs": [
    {
     "data": {
      "image/png": "[encoded data removed]",
      "text/plain": [
       "<Figure size 864x576 with 1 Axes>"
      ]
     },
     "metadata": {},
     "output_type": "display_data"
    }
   ],
   "source": [
    "# Plot\n",
    "plt.figure(figsize = (12,8))\n",
    "plt.plot(list(grouped_df['department']), grouped_df['reordered'].values, alpha=0.8)\n",
    "plt.scatter(list(grouped_df['department']), grouped_df['reordered'].values)\n",
    "plt.ylabel('Taxa de Reorder', fontsize = 12)\n",
    "plt.xlabel('Departmento', fontsize = 12)\n",
    "plt.title(\"Departmento x Taxa de Reorder\", fontsize = 15)\n",
    "plt.xticks(rotation = 'vertical')\n",
    "plt.show()"
   ]
  },
  {
   "cell_type": "markdown",
   "id": "940572c0",
   "metadata": {},
   "source": [
    "### Análise de Reorder e Pedidos"
   ]
  },
  {
   "cell_type": "code",
   "execution_count": 58,
   "id": "7775f017",
   "metadata": {},
   "outputs": [
    {
     "name": "stdout",
     "output_type": "stream",
     "text": [
      "CPU times: user 2.06 s, sys: 260 ms, total: 2.32 s\n",
      "Wall time: 2.31 s\n"
     ]
    }
   ],
   "source": [
    "%%time\n",
    "temp_df = order_product_prior.groupby(\"department\")[\"reordered\"].agg(['count', 'sum']).rename(columns = {'count':'total','sum':'reorders'})\n",
    "temp_df = temp_df.sort_values('total', ascending = False).reset_index()"
   ]
  },
  {
   "cell_type": "code",
   "execution_count": 59,
   "id": "ad04177a",
   "metadata": {},
   "outputs": [
    {
     "data": {
      "text/html": [
       "<div>\n",
       "<style scoped>\n",
       "    .dataframe tbody tr th:only-of-type {\n",
       "        vertical-align: middle;\n",
       "    }\n",
       "\n",
       "    .dataframe tbody tr th {\n",
       "        vertical-align: top;\n",
       "    }\n",
       "\n",
       "    .dataframe thead th {\n",
       "        text-align: right;\n",
       "    }\n",
       "</style>\n",
       "<table border=\"1\" class=\"dataframe\">\n",
       "  <thead>\n",
       "    <tr style=\"text-align: right;\">\n",
       "      <th></th>\n",
       "      <th>department</th>\n",
       "      <th>total</th>\n",
       "      <th>reorders</th>\n",
       "    </tr>\n",
       "  </thead>\n",
       "  <tbody>\n",
       "    <tr>\n",
       "      <th>0</th>\n",
       "      <td>produce</td>\n",
       "      <td>9479291</td>\n",
       "      <td>6160710</td>\n",
       "    </tr>\n",
       "    <tr>\n",
       "      <th>1</th>\n",
       "      <td>dairy eggs</td>\n",
       "      <td>5414016</td>\n",
       "      <td>3627221</td>\n",
       "    </tr>\n",
       "    <tr>\n",
       "      <th>2</th>\n",
       "      <td>snacks</td>\n",
       "      <td>2887550</td>\n",
       "      <td>1657973</td>\n",
       "    </tr>\n",
       "    <tr>\n",
       "      <th>3</th>\n",
       "      <td>beverages</td>\n",
       "      <td>2690129</td>\n",
       "      <td>1757892</td>\n",
       "    </tr>\n",
       "    <tr>\n",
       "      <th>4</th>\n",
       "      <td>frozen</td>\n",
       "      <td>2236432</td>\n",
       "      <td>1211890</td>\n",
       "    </tr>\n",
       "  </tbody>\n",
       "</table>\n",
       "</div>"
      ],
      "text/plain": [
       "   department    total  reorders\n",
       "0     produce  9479291   6160710\n",
       "1  dairy eggs  5414016   3627221\n",
       "2      snacks  2887550   1657973\n",
       "3   beverages  2690129   1757892\n",
       "4      frozen  2236432   1211890"
      ]
     },
     "execution_count": 59,
     "metadata": {},
     "output_type": "execute_result"
    }
   ],
   "source": [
    "temp_df.head()"
   ]
  },
  {
   "cell_type": "code",
   "execution_count": 60,
   "id": "9011b180",
   "metadata": {},
   "outputs": [],
   "source": [
    "# Listas\n",
    "labels = list(temp_df.department[0:20])\n",
    "reorder = list(temp_df.reorders[0:20])\n",
    "total = list(temp_df.total[0:20])"
   ]
  },
  {
   "cell_type": "code",
   "execution_count": 61,
   "id": "c9f54faf",
   "metadata": {},
   "outputs": [
    {
     "data": {
      "image/png": "[encoded data removed]",
      "text/plain": [
       "<Figure size 1440x720 with 1 Axes>"
      ]
     },
     "metadata": {},
     "output_type": "display_data"
    }
   ],
   "source": [
    "# Plot\n",
    "width = 0.35  \n",
    "fig, ax = plt.subplots(figsize = (20,10))\n",
    "ax.bar(labels, reorder, width, label = 'Reorder', color = 'green')\n",
    "ax.bar(labels, total, width, bottom = reorder, label = 'Pedidos', color = 'purple')\n",
    "ax.set_ylabel('Total de Pedidos', fontsize = 14, fontweight = 'bold')\n",
    "ax.legend()\n",
    "ax.set_title(\"Total de Pedidos e Reorders dos Departmentos\")\n",
    "plt.xticks(rotation = 90)\n",
    "plt.show()"
   ]
  },
  {
   "cell_type": "markdown",
   "id": "37945ab4",
   "metadata": {},
   "source": [
    "### Análise de Reorder por Corredor"
   ]
  },
  {
   "cell_type": "code",
   "execution_count": 62,
   "id": "cd0a0e38",
   "metadata": {},
   "outputs": [
    {
     "data": {
      "text/html": [
       "<div>\n",
       "<style scoped>\n",
       "    .dataframe tbody tr th:only-of-type {\n",
       "        vertical-align: middle;\n",
       "    }\n",
       "\n",
       "    .dataframe tbody tr th {\n",
       "        vertical-align: top;\n",
       "    }\n",
       "\n",
       "    .dataframe thead th {\n",
       "        text-align: right;\n",
       "    }\n",
       "</style>\n",
       "<table border=\"1\" class=\"dataframe\">\n",
       "  <thead>\n",
       "    <tr style=\"text-align: right;\">\n",
       "      <th></th>\n",
       "      <th>aisle</th>\n",
       "      <th>reordered</th>\n",
       "    </tr>\n",
       "  </thead>\n",
       "  <tbody>\n",
       "    <tr>\n",
       "      <th>0</th>\n",
       "      <td>air fresheners candles</td>\n",
       "      <td>0.309052</td>\n",
       "    </tr>\n",
       "    <tr>\n",
       "      <th>1</th>\n",
       "      <td>asian foods</td>\n",
       "      <td>0.351132</td>\n",
       "    </tr>\n",
       "    <tr>\n",
       "      <th>2</th>\n",
       "      <td>baby accessories</td>\n",
       "      <td>0.550980</td>\n",
       "    </tr>\n",
       "    <tr>\n",
       "      <th>3</th>\n",
       "      <td>baby bath body care</td>\n",
       "      <td>0.295770</td>\n",
       "    </tr>\n",
       "    <tr>\n",
       "      <th>4</th>\n",
       "      <td>baby food formula</td>\n",
       "      <td>0.590259</td>\n",
       "    </tr>\n",
       "  </tbody>\n",
       "</table>\n",
       "</div>"
      ],
      "text/plain": [
       "                    aisle  reordered\n",
       "0  air fresheners candles   0.309052\n",
       "1             asian foods   0.351132\n",
       "2        baby accessories   0.550980\n",
       "3     baby bath body care   0.295770\n",
       "4       baby food formula   0.590259"
      ]
     },
     "execution_count": 62,
     "metadata": {},
     "output_type": "execute_result"
    }
   ],
   "source": [
    "grouped_df = order_product_prior.groupby([\"aisle\"])[\"reordered\"].aggregate(\"mean\").reset_index()\n",
    "grouped_df.head()"
   ]
  },
  {
   "cell_type": "code",
   "execution_count": 63,
   "id": "85194b49",
   "metadata": {},
   "outputs": [
    {
     "data": {
      "text/plain": [
       "['air fresheners candles',\n",
       " 'asian foods',\n",
       " 'baby accessories',\n",
       " 'baby bath body care',\n",
       " 'baby food formula',\n",
       " 'bakery desserts',\n",
       " 'baking ingredients',\n",
       " 'baking supplies decor',\n",
       " 'beauty',\n",
       " 'beers coolers',\n",
       " 'body lotions soap',\n",
       " 'bread',\n",
       " 'breakfast bakery',\n",
       " 'breakfast bars pastries',\n",
       " 'bulk dried fruits vegetables',\n",
       " 'bulk grains rice dried goods',\n",
       " 'buns rolls',\n",
       " 'butter',\n",
       " 'candy chocolate',\n",
       " 'canned fruit applesauce']"
      ]
     },
     "execution_count": 63,
     "metadata": {},
     "output_type": "execute_result"
    }
   ],
   "source": [
    "list(grouped_df['aisle'])[0:20]"
   ]
  },
  {
   "cell_type": "code",
   "execution_count": 64,
   "id": "38429d31",
   "metadata": {},
   "outputs": [
    {
     "data": {
      "image/png": "[encoded data removed]",
      "text/plain": [
       "<Figure size 1008x504 with 1 Axes>"
      ]
     },
     "metadata": {},
     "output_type": "display_data"
    }
   ],
   "source": [
    "# Corredor x Taxa de Reorder\n",
    "plt.figure(figsize=(14,7))\n",
    "plt.plot(list(grouped_df['aisle'])[0:20], grouped_df['reordered'].values[0:20], alpha=0.8)\n",
    "plt.scatter(list(grouped_df['aisle'])[0:20], grouped_df['reordered'].values[0:20])\n",
    "plt.ylabel('Taxa de Reorder', fontsize=12)\n",
    "plt.xlabel('Corredor', fontsize=12)\n",
    "plt.title(\"Corredor x Taxa de Reorder\", fontsize = 15)\n",
    "plt.xticks(rotation = 'vertical')\n",
    "plt.show()"
   ]
  },
  {
   "cell_type": "markdown",
   "id": "f8699e7a",
   "metadata": {},
   "source": [
    "### Análise de Reorder por Corredor (total)"
   ]
  },
  {
   "cell_type": "code",
   "execution_count": 65,
   "id": "ee267461",
   "metadata": {},
   "outputs": [
    {
     "name": "stdout",
     "output_type": "stream",
     "text": [
      "CPU times: user 2.28 s, sys: 184 ms, total: 2.46 s\n",
      "Wall time: 2.46 s\n"
     ]
    }
   ],
   "source": [
    "%%time\n",
    "temp_df = order_product_prior.groupby(\"aisle\")[\"reordered\"].agg(['count', 'sum']).rename(columns = {'count':'total','sum':'reorders'})\n",
    "temp_df = temp_df.sort_values('total', ascending = False).reset_index()"
   ]
  },
  {
   "cell_type": "code",
   "execution_count": 66,
   "id": "ad41a5da",
   "metadata": {},
   "outputs": [
    {
     "data": {
      "text/html": [
       "<div>\n",
       "<style scoped>\n",
       "    .dataframe tbody tr th:only-of-type {\n",
       "        vertical-align: middle;\n",
       "    }\n",
       "\n",
       "    .dataframe tbody tr th {\n",
       "        vertical-align: top;\n",
       "    }\n",
       "\n",
       "    .dataframe thead th {\n",
       "        text-align: right;\n",
       "    }\n",
       "</style>\n",
       "<table border=\"1\" class=\"dataframe\">\n",
       "  <thead>\n",
       "    <tr style=\"text-align: right;\">\n",
       "      <th></th>\n",
       "      <th>aisle</th>\n",
       "      <th>total</th>\n",
       "      <th>reorders</th>\n",
       "    </tr>\n",
       "  </thead>\n",
       "  <tbody>\n",
       "    <tr>\n",
       "      <th>0</th>\n",
       "      <td>fresh fruits</td>\n",
       "      <td>3642188</td>\n",
       "      <td>2615469</td>\n",
       "    </tr>\n",
       "    <tr>\n",
       "      <th>1</th>\n",
       "      <td>fresh vegetables</td>\n",
       "      <td>3418021</td>\n",
       "      <td>2032172</td>\n",
       "    </tr>\n",
       "    <tr>\n",
       "      <th>2</th>\n",
       "      <td>packaged vegetables fruits</td>\n",
       "      <td>1765313</td>\n",
       "      <td>1127177</td>\n",
       "    </tr>\n",
       "    <tr>\n",
       "      <th>3</th>\n",
       "      <td>yogurt</td>\n",
       "      <td>1452343</td>\n",
       "      <td>997018</td>\n",
       "    </tr>\n",
       "    <tr>\n",
       "      <th>4</th>\n",
       "      <td>packaged cheese</td>\n",
       "      <td>979763</td>\n",
       "      <td>573383</td>\n",
       "    </tr>\n",
       "  </tbody>\n",
       "</table>\n",
       "</div>"
      ],
      "text/plain": [
       "                        aisle    total  reorders\n",
       "0                fresh fruits  3642188   2615469\n",
       "1            fresh vegetables  3418021   2032172\n",
       "2  packaged vegetables fruits  1765313   1127177\n",
       "3                      yogurt  1452343    997018\n",
       "4             packaged cheese   979763    573383"
      ]
     },
     "execution_count": 66,
     "metadata": {},
     "output_type": "execute_result"
    }
   ],
   "source": [
    "temp_df.head()"
   ]
  },
  {
   "cell_type": "code",
   "execution_count": 67,
   "id": "f75d75ab",
   "metadata": {},
   "outputs": [],
   "source": [
    "# Listas\n",
    "labels = list(temp_df.aisle[0:20])\n",
    "reorder = list(temp_df.reorders[0:20])\n",
    "total = list(temp_df.total[0:20])"
   ]
  },
  {
   "cell_type": "code",
   "execution_count": 68,
   "id": "7c20efed",
   "metadata": {},
   "outputs": [
    {
     "data": {
      "image/png": "[encoded data removed]",
      "text/plain": [
       "<Figure size 1440x720 with 1 Axes>"
      ]
     },
     "metadata": {},
     "output_type": "display_data"
    }
   ],
   "source": [
    "# Plot\n",
    "width = 0.35      \n",
    "fig, ax = plt.subplots(figsize = (20,10))\n",
    "ax.bar(labels, reorder, width, label = 'Reorder', color = 'green')\n",
    "ax.bar(labels, total, width, bottom = reorder, label = 'Total', color = 'purple')\n",
    "ax.set_ylabel('Total de Pedidos', fontsize = 14, fontweight = 'bold')\n",
    "ax.legend()\n",
    "ax.set_title(\"Total de Pedidos e Reorders dos Corredores\")\n",
    "plt.xticks(rotation = 90)\n",
    "plt.show()"
   ]
  },
  {
   "cell_type": "markdown",
   "id": "4a14ebfa",
   "metadata": {},
   "source": [
    "> Vamos verificar a relação entre como a ordem de adição do produto ao carrinho afeta a proporção de novos pedidos"
   ]
  },
  {
   "cell_type": "code",
   "execution_count": 69,
   "id": "232ca3da",
   "metadata": {},
   "outputs": [],
   "source": [
    "import warnings\n",
    "warnings.filterwarnings('ignore')"
   ]
  },
  {
   "cell_type": "code",
   "execution_count": 70,
   "id": "7eed537b",
   "metadata": {},
   "outputs": [],
   "source": [
    "!pip install -q shutup"
   ]
  },
  {
   "cell_type": "code",
   "execution_count": 71,
   "id": "e4fd0895",
   "metadata": {},
   "outputs": [],
   "source": [
    "import shutup; shutup.please()"
   ]
  },
  {
   "cell_type": "code",
   "execution_count": 72,
   "id": "3447d1db",
   "metadata": {},
   "outputs": [],
   "source": [
    "order_product_prior[\"add_to_cart_order_mod\"] = order_product_prior[\"add_to_cart_order\"].copy()\n",
    "order_product_prior[\"add_to_cart_order_mod\"].loc[order_product_prior[\"add_to_cart_order_mod\"] > 70] = 70\n",
    "grouped_df = order_product_prior.groupby([\"add_to_cart_order_mod\"])[\"reordered\"].aggregate(\"mean\").reset_index()"
   ]
  },
  {
   "cell_type": "code",
   "execution_count": 73,
   "id": "4cba4bb2",
   "metadata": {},
   "outputs": [
    {
     "data": {
      "text/html": [
       "<div>\n",
       "<style scoped>\n",
       "    .dataframe tbody tr th:only-of-type {\n",
       "        vertical-align: middle;\n",
       "    }\n",
       "\n",
       "    .dataframe tbody tr th {\n",
       "        vertical-align: top;\n",
       "    }\n",
       "\n",
       "    .dataframe thead th {\n",
       "        text-align: right;\n",
       "    }\n",
       "</style>\n",
       "<table border=\"1\" class=\"dataframe\">\n",
       "  <thead>\n",
       "    <tr style=\"text-align: right;\">\n",
       "      <th></th>\n",
       "      <th>add_to_cart_order_mod</th>\n",
       "      <th>reordered</th>\n",
       "    </tr>\n",
       "  </thead>\n",
       "  <tbody>\n",
       "    <tr>\n",
       "      <th>0</th>\n",
       "      <td>1</td>\n",
       "      <td>0.677533</td>\n",
       "    </tr>\n",
       "    <tr>\n",
       "      <th>1</th>\n",
       "      <td>2</td>\n",
       "      <td>0.676251</td>\n",
       "    </tr>\n",
       "    <tr>\n",
       "      <th>2</th>\n",
       "      <td>3</td>\n",
       "      <td>0.658037</td>\n",
       "    </tr>\n",
       "    <tr>\n",
       "      <th>3</th>\n",
       "      <td>4</td>\n",
       "      <td>0.636958</td>\n",
       "    </tr>\n",
       "    <tr>\n",
       "      <th>4</th>\n",
       "      <td>5</td>\n",
       "      <td>0.617383</td>\n",
       "    </tr>\n",
       "    <tr>\n",
       "      <th>5</th>\n",
       "      <td>6</td>\n",
       "      <td>0.600420</td>\n",
       "    </tr>\n",
       "    <tr>\n",
       "      <th>6</th>\n",
       "      <td>7</td>\n",
       "      <td>0.585687</td>\n",
       "    </tr>\n",
       "    <tr>\n",
       "      <th>7</th>\n",
       "      <td>8</td>\n",
       "      <td>0.573247</td>\n",
       "    </tr>\n",
       "    <tr>\n",
       "      <th>8</th>\n",
       "      <td>9</td>\n",
       "      <td>0.561474</td>\n",
       "    </tr>\n",
       "    <tr>\n",
       "      <th>9</th>\n",
       "      <td>10</td>\n",
       "      <td>0.551018</td>\n",
       "    </tr>\n",
       "  </tbody>\n",
       "</table>\n",
       "</div>"
      ],
      "text/plain": [
       "   add_to_cart_order_mod  reordered\n",
       "0                      1   0.677533\n",
       "1                      2   0.676251\n",
       "2                      3   0.658037\n",
       "3                      4   0.636958\n",
       "4                      5   0.617383\n",
       "5                      6   0.600420\n",
       "6                      7   0.585687\n",
       "7                      8   0.573247\n",
       "8                      9   0.561474\n",
       "9                     10   0.551018"
      ]
     },
     "execution_count": 73,
     "metadata": {},
     "output_type": "execute_result"
    }
   ],
   "source": [
    "grouped_df.head(10)"
   ]
  },
  {
   "cell_type": "markdown",
   "id": "b81b7ff7",
   "metadata": {},
   "source": [
    "## Algoritmo Apriori"
   ]
  },
  {
   "cell_type": "code",
   "execution_count": 74,
   "id": "584744d7",
   "metadata": {},
   "outputs": [],
   "source": [
    "# Preparação das transações com tupla\n",
    "transactions_tup = [tuple(row) for row in transactions['Products'].tolist()]"
   ]
  },
  {
   "cell_type": "code",
   "execution_count": 75,
   "id": "c87349fd",
   "metadata": {},
   "outputs": [
    {
     "name": "stdout",
     "output_type": "stream",
     "text": [
      "Tempo de Execução: 0:00:02.796158\n"
     ]
    }
   ],
   "source": [
    "# Algoritmo Apriori com Support = 0.01 e Confidence = 0.02\n",
    "st = datetime.now()\n",
    "itemsets_ap, rules_ap = apriori(transactions_tup[:500000], min_support = 0.01, min_confidence = 0.2)\n",
    "print('Tempo de Execução:', datetime.now() - st)"
   ]
  },
  {
   "cell_type": "code",
   "execution_count": 76,
   "id": "740b88a2",
   "metadata": {},
   "outputs": [
    {
     "data": {
      "text/plain": [
       "[{21137} -> {13176},\n",
       " {21903} -> {13176},\n",
       " {27966} -> {13176},\n",
       " {47209} -> {13176},\n",
       " {16797} -> {24852},\n",
       " {21137} -> {24852},\n",
       " {27966} -> {21137},\n",
       " {21903} -> {24852},\n",
       " {28204} -> {24852},\n",
       " {47626} -> {24852},\n",
       " {47766} -> {24852},\n",
       " {49683} -> {24852}]"
      ]
     },
     "execution_count": 76,
     "metadata": {},
     "output_type": "execute_result"
    }
   ],
   "source": [
    "rules_ap"
   ]
  },
  {
   "cell_type": "code",
   "execution_count": 77,
   "id": "b83313df",
   "metadata": {},
   "outputs": [],
   "source": [
    "# Listas de itens para considerar\n",
    "item_A = [27966,47209,21137,47766,21903,49683,47626,28204,16797,21903,21137,27966]\n",
    "item_B = [13176,13176,24852,24852,24852,24852,24852,24852,24852,13176,13176,21137]\n",
    "temp = pd.DataFrame()\n",
    "temp['itemA'] = item_A\n",
    "temp['itemB'] = item_B"
   ]
  },
  {
   "cell_type": "code",
   "execution_count": 78,
   "id": "277ad906",
   "metadata": {},
   "outputs": [],
   "source": [
    "# Listas para as métricas\n",
    "support_A = []\n",
    "support_B = []\n",
    "support_AB = []\n",
    "confidence_AB = []\n",
    "lift_AB = []"
   ]
  },
  {
   "cell_type": "code",
   "execution_count": 79,
   "id": "635701a5",
   "metadata": {},
   "outputs": [],
   "source": [
    "# Loop\n",
    "for i in range(len(temp)):\n",
    "    \n",
    "    # Calcula o support de A\n",
    "    support_A.append(itemsets_ap[1][tuple([temp['itemA'][i],])] / 500000)\n",
    "    \n",
    "    # Calcula o support de B\n",
    "    support_B.append(itemsets_ap[1][tuple([temp['itemB'][i],])] / 500000)\n",
    "    \n",
    "    # Calcula o support de A e B\n",
    "    if tuple([temp['itemA'][i],temp['itemB'][i]]) in itemsets_ap[2].keys():\n",
    "        support_AB.append(itemsets_ap[2][tuple([temp['itemA'][i],temp['itemB'][i]])] / 500000)\n",
    "    else:\n",
    "        support_AB.append(itemsets_ap[2][tuple([temp['itemB'][i],temp['itemA'][i]])] / 500000)\n",
    "    \n",
    "    # Calcula a confidence\n",
    "    confidence_AB.append(support_AB[i] / support_A[i])\n",
    "    \n",
    "    # Calcula o lift\n",
    "    lift_AB.append(support_AB[i] / (support_A[i] * support_B[i]))"
   ]
  },
  {
   "cell_type": "code",
   "execution_count": 80,
   "id": "9a4e9f5d",
   "metadata": {},
   "outputs": [],
   "source": [
    "# Dataframe com as regras de associação\n",
    "df_rules_ap = pd.DataFrame()\n",
    "df_rules_ap['product_id'] = item_A\n",
    "df_rules_ap = df_rules_ap.merge(product, on = 'product_id', how = 'left')\n",
    "df_rules_ap['Product_A'] = df_rules_ap['product_name']\n",
    "df_rules_ap = df_rules_ap.drop(columns = ['product_id','product_name','aisle_id','department_id'], axis = 1)\n",
    "df_rules_ap['product_id'] = item_B\n",
    "df_rules_ap = df_rules_ap.merge(product, on = 'product_id', how = 'left')\n",
    "df_rules_ap['Product_B'] = df_rules_ap['product_name']\n",
    "df_rules_ap = df_rules_ap.drop(columns = ['product_id','product_name','aisle_id','department_id'], axis = 1)\n",
    "df_rules_ap['Support_A'] = support_A\n",
    "df_rules_ap['Support_B'] = support_B\n",
    "df_rules_ap['Support_AB'] = support_AB\n",
    "df_rules_ap['Confidence_AB'] = confidence_AB\n",
    "df_rules_ap['Lift_AB'] = lift_AB"
   ]
  },
  {
   "cell_type": "code",
   "execution_count": 81,
   "id": "a65e71db",
   "metadata": {},
   "outputs": [
    {
     "data": {
      "text/html": [
       "<div>\n",
       "<style scoped>\n",
       "    .dataframe tbody tr th:only-of-type {\n",
       "        vertical-align: middle;\n",
       "    }\n",
       "\n",
       "    .dataframe tbody tr th {\n",
       "        vertical-align: top;\n",
       "    }\n",
       "\n",
       "    .dataframe thead th {\n",
       "        text-align: right;\n",
       "    }\n",
       "</style>\n",
       "<table border=\"1\" class=\"dataframe\">\n",
       "  <thead>\n",
       "    <tr style=\"text-align: right;\">\n",
       "      <th></th>\n",
       "      <th>Product_A</th>\n",
       "      <th>Product_B</th>\n",
       "      <th>Support_A</th>\n",
       "      <th>Support_B</th>\n",
       "      <th>Support_AB</th>\n",
       "      <th>Confidence_AB</th>\n",
       "      <th>Lift_AB</th>\n",
       "    </tr>\n",
       "  </thead>\n",
       "  <tbody>\n",
       "    <tr>\n",
       "      <th>7</th>\n",
       "      <td>Organic Fuji Apple</td>\n",
       "      <td>Banana</td>\n",
       "      <td>0.027942</td>\n",
       "      <td>0.147194</td>\n",
       "      <td>0.010630</td>\n",
       "      <td>0.380431</td>\n",
       "      <td>2.584554</td>\n",
       "    </tr>\n",
       "    <tr>\n",
       "      <th>5</th>\n",
       "      <td>Cucumber Kirby</td>\n",
       "      <td>Banana</td>\n",
       "      <td>0.030218</td>\n",
       "      <td>0.147194</td>\n",
       "      <td>0.010024</td>\n",
       "      <td>0.331723</td>\n",
       "      <td>2.253644</td>\n",
       "    </tr>\n",
       "    <tr>\n",
       "      <th>3</th>\n",
       "      <td>Organic Avocado</td>\n",
       "      <td>Banana</td>\n",
       "      <td>0.054564</td>\n",
       "      <td>0.147194</td>\n",
       "      <td>0.016328</td>\n",
       "      <td>0.299245</td>\n",
       "      <td>2.032997</td>\n",
       "    </tr>\n",
       "    <tr>\n",
       "      <th>0</th>\n",
       "      <td>Organic Raspberries</td>\n",
       "      <td>Bag of Organic Bananas</td>\n",
       "      <td>0.042334</td>\n",
       "      <td>0.117802</td>\n",
       "      <td>0.012428</td>\n",
       "      <td>0.293570</td>\n",
       "      <td>2.492064</td>\n",
       "    </tr>\n",
       "    <tr>\n",
       "      <th>1</th>\n",
       "      <td>Organic Hass Avocado</td>\n",
       "      <td>Bag of Organic Bananas</td>\n",
       "      <td>0.066218</td>\n",
       "      <td>0.117802</td>\n",
       "      <td>0.019260</td>\n",
       "      <td>0.290857</td>\n",
       "      <td>2.469037</td>\n",
       "    </tr>\n",
       "    <tr>\n",
       "      <th>8</th>\n",
       "      <td>Strawberries</td>\n",
       "      <td>Banana</td>\n",
       "      <td>0.044496</td>\n",
       "      <td>0.147194</td>\n",
       "      <td>0.012902</td>\n",
       "      <td>0.289959</td>\n",
       "      <td>1.969908</td>\n",
       "    </tr>\n",
       "    <tr>\n",
       "      <th>6</th>\n",
       "      <td>Large Lemon</td>\n",
       "      <td>Banana</td>\n",
       "      <td>0.047718</td>\n",
       "      <td>0.147194</td>\n",
       "      <td>0.012692</td>\n",
       "      <td>0.265979</td>\n",
       "      <td>1.806998</td>\n",
       "    </tr>\n",
       "    <tr>\n",
       "      <th>11</th>\n",
       "      <td>Organic Raspberries</td>\n",
       "      <td>Organic Strawberries</td>\n",
       "      <td>0.042334</td>\n",
       "      <td>0.082550</td>\n",
       "      <td>0.010524</td>\n",
       "      <td>0.248595</td>\n",
       "      <td>3.011442</td>\n",
       "    </tr>\n",
       "    <tr>\n",
       "      <th>10</th>\n",
       "      <td>Organic Strawberries</td>\n",
       "      <td>Bag of Organic Bananas</td>\n",
       "      <td>0.082550</td>\n",
       "      <td>0.117802</td>\n",
       "      <td>0.019122</td>\n",
       "      <td>0.231641</td>\n",
       "      <td>1.966362</td>\n",
       "    </tr>\n",
       "    <tr>\n",
       "      <th>4</th>\n",
       "      <td>Organic Baby Spinach</td>\n",
       "      <td>Banana</td>\n",
       "      <td>0.075000</td>\n",
       "      <td>0.147194</td>\n",
       "      <td>0.016016</td>\n",
       "      <td>0.213547</td>\n",
       "      <td>1.450784</td>\n",
       "    </tr>\n",
       "    <tr>\n",
       "      <th>2</th>\n",
       "      <td>Organic Strawberries</td>\n",
       "      <td>Banana</td>\n",
       "      <td>0.082550</td>\n",
       "      <td>0.147194</td>\n",
       "      <td>0.017596</td>\n",
       "      <td>0.213156</td>\n",
       "      <td>1.448127</td>\n",
       "    </tr>\n",
       "    <tr>\n",
       "      <th>9</th>\n",
       "      <td>Organic Baby Spinach</td>\n",
       "      <td>Bag of Organic Bananas</td>\n",
       "      <td>0.075000</td>\n",
       "      <td>0.117802</td>\n",
       "      <td>0.015500</td>\n",
       "      <td>0.206667</td>\n",
       "      <td>1.754356</td>\n",
       "    </tr>\n",
       "  </tbody>\n",
       "</table>\n",
       "</div>"
      ],
      "text/plain": [
       "               Product_A               Product_B  Support_A  Support_B  \\\n",
       "7     Organic Fuji Apple                  Banana   0.027942   0.147194   \n",
       "5         Cucumber Kirby                  Banana   0.030218   0.147194   \n",
       "3        Organic Avocado                  Banana   0.054564   0.147194   \n",
       "0    Organic Raspberries  Bag of Organic Bananas   0.042334   0.117802   \n",
       "1   Organic Hass Avocado  Bag of Organic Bananas   0.066218   0.117802   \n",
       "8           Strawberries                  Banana   0.044496   0.147194   \n",
       "6            Large Lemon                  Banana   0.047718   0.147194   \n",
       "11   Organic Raspberries    Organic Strawberries   0.042334   0.082550   \n",
       "10  Organic Strawberries  Bag of Organic Bananas   0.082550   0.117802   \n",
       "4   Organic Baby Spinach                  Banana   0.075000   0.147194   \n",
       "2   Organic Strawberries                  Banana   0.082550   0.147194   \n",
       "9   Organic Baby Spinach  Bag of Organic Bananas   0.075000   0.117802   \n",
       "\n",
       "    Support_AB  Confidence_AB   Lift_AB  \n",
       "7     0.010630       0.380431  2.584554  \n",
       "5     0.010024       0.331723  2.253644  \n",
       "3     0.016328       0.299245  2.032997  \n",
       "0     0.012428       0.293570  2.492064  \n",
       "1     0.019260       0.290857  2.469037  \n",
       "8     0.012902       0.289959  1.969908  \n",
       "6     0.012692       0.265979  1.806998  \n",
       "11    0.010524       0.248595  3.011442  \n",
       "10    0.019122       0.231641  1.966362  \n",
       "4     0.016016       0.213547  1.450784  \n",
       "2     0.017596       0.213156  1.448127  \n",
       "9     0.015500       0.206667  1.754356  "
      ]
     },
     "execution_count": 81,
     "metadata": {},
     "output_type": "execute_result"
    }
   ],
   "source": [
    "df_rules_ap.sort_values(by = 'Confidence_AB', ascending = False)"
   ]
  },
  {
   "cell_type": "code",
   "execution_count": 82,
   "id": "6422b64e",
   "metadata": {},
   "outputs": [
    {
     "data": {
      "text/html": [
       "<div>\n",
       "<style scoped>\n",
       "    .dataframe tbody tr th:only-of-type {\n",
       "        vertical-align: middle;\n",
       "    }\n",
       "\n",
       "    .dataframe tbody tr th {\n",
       "        vertical-align: top;\n",
       "    }\n",
       "\n",
       "    .dataframe thead th {\n",
       "        text-align: right;\n",
       "    }\n",
       "</style>\n",
       "<table border=\"1\" class=\"dataframe\">\n",
       "  <thead>\n",
       "    <tr style=\"text-align: right;\">\n",
       "      <th></th>\n",
       "      <th>Product_A</th>\n",
       "      <th>Product_B</th>\n",
       "      <th>Support_A</th>\n",
       "      <th>Support_B</th>\n",
       "      <th>Support_AB</th>\n",
       "      <th>Confidence_AB</th>\n",
       "      <th>Lift_AB</th>\n",
       "    </tr>\n",
       "  </thead>\n",
       "  <tbody>\n",
       "    <tr>\n",
       "      <th>11</th>\n",
       "      <td>Organic Raspberries</td>\n",
       "      <td>Organic Strawberries</td>\n",
       "      <td>0.042334</td>\n",
       "      <td>0.082550</td>\n",
       "      <td>0.010524</td>\n",
       "      <td>0.248595</td>\n",
       "      <td>3.011442</td>\n",
       "    </tr>\n",
       "    <tr>\n",
       "      <th>7</th>\n",
       "      <td>Organic Fuji Apple</td>\n",
       "      <td>Banana</td>\n",
       "      <td>0.027942</td>\n",
       "      <td>0.147194</td>\n",
       "      <td>0.010630</td>\n",
       "      <td>0.380431</td>\n",
       "      <td>2.584554</td>\n",
       "    </tr>\n",
       "    <tr>\n",
       "      <th>0</th>\n",
       "      <td>Organic Raspberries</td>\n",
       "      <td>Bag of Organic Bananas</td>\n",
       "      <td>0.042334</td>\n",
       "      <td>0.117802</td>\n",
       "      <td>0.012428</td>\n",
       "      <td>0.293570</td>\n",
       "      <td>2.492064</td>\n",
       "    </tr>\n",
       "    <tr>\n",
       "      <th>1</th>\n",
       "      <td>Organic Hass Avocado</td>\n",
       "      <td>Bag of Organic Bananas</td>\n",
       "      <td>0.066218</td>\n",
       "      <td>0.117802</td>\n",
       "      <td>0.019260</td>\n",
       "      <td>0.290857</td>\n",
       "      <td>2.469037</td>\n",
       "    </tr>\n",
       "    <tr>\n",
       "      <th>5</th>\n",
       "      <td>Cucumber Kirby</td>\n",
       "      <td>Banana</td>\n",
       "      <td>0.030218</td>\n",
       "      <td>0.147194</td>\n",
       "      <td>0.010024</td>\n",
       "      <td>0.331723</td>\n",
       "      <td>2.253644</td>\n",
       "    </tr>\n",
       "    <tr>\n",
       "      <th>3</th>\n",
       "      <td>Organic Avocado</td>\n",
       "      <td>Banana</td>\n",
       "      <td>0.054564</td>\n",
       "      <td>0.147194</td>\n",
       "      <td>0.016328</td>\n",
       "      <td>0.299245</td>\n",
       "      <td>2.032997</td>\n",
       "    </tr>\n",
       "    <tr>\n",
       "      <th>8</th>\n",
       "      <td>Strawberries</td>\n",
       "      <td>Banana</td>\n",
       "      <td>0.044496</td>\n",
       "      <td>0.147194</td>\n",
       "      <td>0.012902</td>\n",
       "      <td>0.289959</td>\n",
       "      <td>1.969908</td>\n",
       "    </tr>\n",
       "    <tr>\n",
       "      <th>10</th>\n",
       "      <td>Organic Strawberries</td>\n",
       "      <td>Bag of Organic Bananas</td>\n",
       "      <td>0.082550</td>\n",
       "      <td>0.117802</td>\n",
       "      <td>0.019122</td>\n",
       "      <td>0.231641</td>\n",
       "      <td>1.966362</td>\n",
       "    </tr>\n",
       "    <tr>\n",
       "      <th>6</th>\n",
       "      <td>Large Lemon</td>\n",
       "      <td>Banana</td>\n",
       "      <td>0.047718</td>\n",
       "      <td>0.147194</td>\n",
       "      <td>0.012692</td>\n",
       "      <td>0.265979</td>\n",
       "      <td>1.806998</td>\n",
       "    </tr>\n",
       "    <tr>\n",
       "      <th>9</th>\n",
       "      <td>Organic Baby Spinach</td>\n",
       "      <td>Bag of Organic Bananas</td>\n",
       "      <td>0.075000</td>\n",
       "      <td>0.117802</td>\n",
       "      <td>0.015500</td>\n",
       "      <td>0.206667</td>\n",
       "      <td>1.754356</td>\n",
       "    </tr>\n",
       "    <tr>\n",
       "      <th>4</th>\n",
       "      <td>Organic Baby Spinach</td>\n",
       "      <td>Banana</td>\n",
       "      <td>0.075000</td>\n",
       "      <td>0.147194</td>\n",
       "      <td>0.016016</td>\n",
       "      <td>0.213547</td>\n",
       "      <td>1.450784</td>\n",
       "    </tr>\n",
       "    <tr>\n",
       "      <th>2</th>\n",
       "      <td>Organic Strawberries</td>\n",
       "      <td>Banana</td>\n",
       "      <td>0.082550</td>\n",
       "      <td>0.147194</td>\n",
       "      <td>0.017596</td>\n",
       "      <td>0.213156</td>\n",
       "      <td>1.448127</td>\n",
       "    </tr>\n",
       "  </tbody>\n",
       "</table>\n",
       "</div>"
      ],
      "text/plain": [
       "               Product_A               Product_B  Support_A  Support_B  \\\n",
       "11   Organic Raspberries    Organic Strawberries   0.042334   0.082550   \n",
       "7     Organic Fuji Apple                  Banana   0.027942   0.147194   \n",
       "0    Organic Raspberries  Bag of Organic Bananas   0.042334   0.117802   \n",
       "1   Organic Hass Avocado  Bag of Organic Bananas   0.066218   0.117802   \n",
       "5         Cucumber Kirby                  Banana   0.030218   0.147194   \n",
       "3        Organic Avocado                  Banana   0.054564   0.147194   \n",
       "8           Strawberries                  Banana   0.044496   0.147194   \n",
       "10  Organic Strawberries  Bag of Organic Bananas   0.082550   0.117802   \n",
       "6            Large Lemon                  Banana   0.047718   0.147194   \n",
       "9   Organic Baby Spinach  Bag of Organic Bananas   0.075000   0.117802   \n",
       "4   Organic Baby Spinach                  Banana   0.075000   0.147194   \n",
       "2   Organic Strawberries                  Banana   0.082550   0.147194   \n",
       "\n",
       "    Support_AB  Confidence_AB   Lift_AB  \n",
       "11    0.010524       0.248595  3.011442  \n",
       "7     0.010630       0.380431  2.584554  \n",
       "0     0.012428       0.293570  2.492064  \n",
       "1     0.019260       0.290857  2.469037  \n",
       "5     0.010024       0.331723  2.253644  \n",
       "3     0.016328       0.299245  2.032997  \n",
       "8     0.012902       0.289959  1.969908  \n",
       "10    0.019122       0.231641  1.966362  \n",
       "6     0.012692       0.265979  1.806998  \n",
       "9     0.015500       0.206667  1.754356  \n",
       "4     0.016016       0.213547  1.450784  \n",
       "2     0.017596       0.213156  1.448127  "
      ]
     },
     "execution_count": 82,
     "metadata": {},
     "output_type": "execute_result"
    }
   ],
   "source": [
    "df_rules_ap.sort_values(by = 'Lift_AB', ascending = False)"
   ]
  },
  {
   "cell_type": "code",
   "execution_count": 83,
   "id": "33c739b2",
   "metadata": {},
   "outputs": [
    {
     "name": "stdout",
     "output_type": "stream",
     "text": [
      "Tempo de Execução:  0:00:05.259347\n"
     ]
    }
   ],
   "source": [
    "st = datetime.now()\n",
    "itemsets_ap_1, rules_ap_1 = apriori(transactions_tup[:500000], min_support = 0.005, min_confidence = 0.2)\n",
    "print('Tempo de Execução: ', datetime.now() - st)"
   ]
  },
  {
   "cell_type": "code",
   "execution_count": 84,
   "id": "59dcc981",
   "metadata": {},
   "outputs": [
    {
     "data": {
      "text/plain": [
       "[{4605} -> {24852},\n",
       " {4920} -> {24852},\n",
       " {5876} -> {13176},\n",
       " {5876} -> {47209},\n",
       " {8277} -> {13176},\n",
       " {8277} -> {24852},\n",
       " {9076} -> {24852},\n",
       " {19057} -> {13176},\n",
       " {21137} -> {13176},\n",
       " {21903} -> {13176},\n",
       " {22935} -> {13176},\n",
       " {27966} -> {13176},\n",
       " {30391} -> {13176},\n",
       " {37646} -> {13176},\n",
       " {39275} -> {13176},\n",
       " {45007} -> {13176},\n",
       " {47209} -> {13176},\n",
       " {16797} -> {24852},\n",
       " {21137} -> {24852},\n",
       " {27966} -> {21137},\n",
       " {30391} -> {21137},\n",
       " {39275} -> {21137},\n",
       " {21903} -> {24852},\n",
       " {24964} -> {22935},\n",
       " {26209} -> {24852},\n",
       " {27845} -> {24852},\n",
       " {28204} -> {24852},\n",
       " {30489} -> {24852},\n",
       " {37646} -> {24852},\n",
       " {40706} -> {24852},\n",
       " {42265} -> {24852},\n",
       " {44632} -> {24852},\n",
       " {45066} -> {24852},\n",
       " {47626} -> {24852},\n",
       " {47766} -> {24852},\n",
       " {49683} -> {24852},\n",
       " {31717} -> {26209},\n",
       " {30391} -> {47209}]"
      ]
     },
     "execution_count": 84,
     "metadata": {},
     "output_type": "execute_result"
    }
   ],
   "source": [
    "rules_ap_1"
   ]
  },
  {
   "cell_type": "code",
   "execution_count": 85,
   "id": "4cc3fe9d",
   "metadata": {},
   "outputs": [],
   "source": [
    "# Lista de itens para considerar\n",
    "item_A1 = [27966,47209,4605,21137,47766,21903,49683,5876,37646,40706,47626,5876,30391,22935,37646,31717,\n",
    "           28204,27845,24964,45066,9076,16797,21903,8277,30391,21137,27966,19057,26209,45007,39275,30489,\n",
    "           42265,30391,8277,4920,39275,44632]\n",
    "item_B1 = [13176,13176,24852,24852,24852,24852,24852,47209,24852,24852,24852,13176,13176,13176,13176,26209,\n",
    "           24852,24852,22935,24852,24852,24852,13176,24852,47209,13176,21137,13176,24852,13176,21137,24852,\n",
    "           24852,21137,13176,24852,13176,24852]\n",
    "temp1 = pd.DataFrame()\n",
    "temp1['itemA'] = item_A1\n",
    "temp1['itemB'] = item_B1"
   ]
  },
  {
   "cell_type": "code",
   "execution_count": 86,
   "id": "220861c2",
   "metadata": {},
   "outputs": [],
   "source": [
    "# Listas de métricas\n",
    "support_A1 = []\n",
    "support_B1 = []\n",
    "support_AB1 = []\n",
    "confidence_AB1 = []\n",
    "lift_AB1 = []"
   ]
  },
  {
   "cell_type": "code",
   "execution_count": 87,
   "id": "5f30dec2",
   "metadata": {},
   "outputs": [],
   "source": [
    "# Loop\n",
    "for i in range(len(temp1)):\n",
    "    \n",
    "    support_A1.append(itemsets_ap_1[1][tuple([temp1['itemA'][i],])] / 500000)\n",
    "    \n",
    "    support_B1.append(itemsets_ap_1[1][tuple([temp1['itemB'][i],])] / 500000)\n",
    "    \n",
    "    if tuple([temp1['itemA'][i],temp1['itemB'][i]]) in itemsets_ap_1[2].keys():\n",
    "        support_AB1.append(itemsets_ap_1[2][tuple([temp1['itemA'][i],temp1['itemB'][i]])] / 500000)\n",
    "    else:\n",
    "        support_AB1.append(itemsets_ap_1[2][tuple([temp1['itemB'][i],temp1['itemA'][i]])] / 500000)\n",
    "    \n",
    "    confidence_AB1.append(support_AB1[i] / support_A1[i])\n",
    "    \n",
    "    lift_AB1.append(support_AB1[i] / (support_A1[i] * support_B1[i]))"
   ]
  },
  {
   "cell_type": "code",
   "execution_count": 88,
   "id": "5e847643",
   "metadata": {},
   "outputs": [],
   "source": [
    "# Dataframe com as regras de associação\n",
    "df_rules_ap1 = pd.DataFrame()\n",
    "df_rules_ap1['product_id'] = item_A1\n",
    "df_rules_ap1 = df_rules_ap1.merge(product, on = 'product_id', how = 'left')\n",
    "df_rules_ap1['Product_A'] = df_rules_ap1['product_name']\n",
    "df_rules_ap1 = df_rules_ap1.drop(columns = ['product_id','product_name','aisle_id','department_id'], axis = 1)\n",
    "df_rules_ap1['product_id'] = item_B1\n",
    "df_rules_ap1 = df_rules_ap1.merge(product, on = 'product_id', how = 'left')\n",
    "df_rules_ap1['Product_B'] = df_rules_ap1['product_name']\n",
    "df_rules_ap1 = df_rules_ap1.drop(columns = ['product_id','product_name','aisle_id','department_id'], axis = 1)\n",
    "df_rules_ap1['Support_A'] = support_A1\n",
    "df_rules_ap1['Support_B'] = support_B1\n",
    "df_rules_ap1['Support_AB'] = support_AB1\n",
    "df_rules_ap1['Confidence_AB'] = confidence_AB1\n",
    "df_rules_ap1['Lift_AB'] = lift_AB1"
   ]
  },
  {
   "cell_type": "code",
   "execution_count": 89,
   "id": "96bdc8d8",
   "metadata": {},
   "outputs": [
    {
     "data": {
      "text/html": [
       "<div>\n",
       "<style scoped>\n",
       "    .dataframe tbody tr th:only-of-type {\n",
       "        vertical-align: middle;\n",
       "    }\n",
       "\n",
       "    .dataframe tbody tr th {\n",
       "        vertical-align: top;\n",
       "    }\n",
       "\n",
       "    .dataframe thead th {\n",
       "        text-align: right;\n",
       "    }\n",
       "</style>\n",
       "<table border=\"1\" class=\"dataframe\">\n",
       "  <thead>\n",
       "    <tr style=\"text-align: right;\">\n",
       "      <th></th>\n",
       "      <th>Product_A</th>\n",
       "      <th>Product_B</th>\n",
       "      <th>Support_A</th>\n",
       "      <th>Support_B</th>\n",
       "      <th>Support_AB</th>\n",
       "      <th>Confidence_AB</th>\n",
       "      <th>Lift_AB</th>\n",
       "    </tr>\n",
       "  </thead>\n",
       "  <tbody>\n",
       "    <tr>\n",
       "      <th>16</th>\n",
       "      <td>Organic Fuji Apple</td>\n",
       "      <td>Banana</td>\n",
       "      <td>0.027942</td>\n",
       "      <td>0.147194</td>\n",
       "      <td>0.010630</td>\n",
       "      <td>0.380431</td>\n",
       "      <td>2.584554</td>\n",
       "    </tr>\n",
       "    <tr>\n",
       "      <th>19</th>\n",
       "      <td>Honeycrisp Apple</td>\n",
       "      <td>Banana</td>\n",
       "      <td>0.024774</td>\n",
       "      <td>0.147194</td>\n",
       "      <td>0.008832</td>\n",
       "      <td>0.356503</td>\n",
       "      <td>2.421993</td>\n",
       "    </tr>\n",
       "    <tr>\n",
       "      <th>6</th>\n",
       "      <td>Cucumber Kirby</td>\n",
       "      <td>Banana</td>\n",
       "      <td>0.030218</td>\n",
       "      <td>0.147194</td>\n",
       "      <td>0.010024</td>\n",
       "      <td>0.331723</td>\n",
       "      <td>2.253644</td>\n",
       "    </tr>\n",
       "    <tr>\n",
       "      <th>27</th>\n",
       "      <td>Organic Large Extra Fancy Fuji Apple</td>\n",
       "      <td>Bag of Organic Bananas</td>\n",
       "      <td>0.023374</td>\n",
       "      <td>0.117802</td>\n",
       "      <td>0.007330</td>\n",
       "      <td>0.313596</td>\n",
       "      <td>2.662063</td>\n",
       "    </tr>\n",
       "    <tr>\n",
       "      <th>4</th>\n",
       "      <td>Organic Avocado</td>\n",
       "      <td>Banana</td>\n",
       "      <td>0.054564</td>\n",
       "      <td>0.147194</td>\n",
       "      <td>0.016328</td>\n",
       "      <td>0.299245</td>\n",
       "      <td>2.032997</td>\n",
       "    </tr>\n",
       "    <tr>\n",
       "      <th>35</th>\n",
       "      <td>Seedless Red Grapes</td>\n",
       "      <td>Banana</td>\n",
       "      <td>0.026054</td>\n",
       "      <td>0.147194</td>\n",
       "      <td>0.007750</td>\n",
       "      <td>0.297459</td>\n",
       "      <td>2.020864</td>\n",
       "    </tr>\n",
       "    <tr>\n",
       "      <th>2</th>\n",
       "      <td>Yellow Onions</td>\n",
       "      <td>Banana</td>\n",
       "      <td>0.022814</td>\n",
       "      <td>0.147194</td>\n",
       "      <td>0.006750</td>\n",
       "      <td>0.295871</td>\n",
       "      <td>2.010075</td>\n",
       "    </tr>\n",
       "    <tr>\n",
       "      <th>0</th>\n",
       "      <td>Organic Raspberries</td>\n",
       "      <td>Bag of Organic Bananas</td>\n",
       "      <td>0.042334</td>\n",
       "      <td>0.117802</td>\n",
       "      <td>0.012428</td>\n",
       "      <td>0.293570</td>\n",
       "      <td>2.492064</td>\n",
       "    </tr>\n",
       "    <tr>\n",
       "      <th>20</th>\n",
       "      <td>Blueberries</td>\n",
       "      <td>Banana</td>\n",
       "      <td>0.017674</td>\n",
       "      <td>0.147194</td>\n",
       "      <td>0.005186</td>\n",
       "      <td>0.293425</td>\n",
       "      <td>1.993460</td>\n",
       "    </tr>\n",
       "    <tr>\n",
       "      <th>1</th>\n",
       "      <td>Organic Hass Avocado</td>\n",
       "      <td>Bag of Organic Bananas</td>\n",
       "      <td>0.066218</td>\n",
       "      <td>0.117802</td>\n",
       "      <td>0.019260</td>\n",
       "      <td>0.290857</td>\n",
       "      <td>2.469037</td>\n",
       "    </tr>\n",
       "  </tbody>\n",
       "</table>\n",
       "</div>"
      ],
      "text/plain": [
       "                               Product_A               Product_B  Support_A  \\\n",
       "16                    Organic Fuji Apple                  Banana   0.027942   \n",
       "19                      Honeycrisp Apple                  Banana   0.024774   \n",
       "6                         Cucumber Kirby                  Banana   0.030218   \n",
       "27  Organic Large Extra Fancy Fuji Apple  Bag of Organic Bananas   0.023374   \n",
       "4                        Organic Avocado                  Banana   0.054564   \n",
       "35                   Seedless Red Grapes                  Banana   0.026054   \n",
       "2                          Yellow Onions                  Banana   0.022814   \n",
       "0                    Organic Raspberries  Bag of Organic Bananas   0.042334   \n",
       "20                           Blueberries                  Banana   0.017674   \n",
       "1                   Organic Hass Avocado  Bag of Organic Bananas   0.066218   \n",
       "\n",
       "    Support_B  Support_AB  Confidence_AB   Lift_AB  \n",
       "16   0.147194    0.010630       0.380431  2.584554  \n",
       "19   0.147194    0.008832       0.356503  2.421993  \n",
       "6    0.147194    0.010024       0.331723  2.253644  \n",
       "27   0.117802    0.007330       0.313596  2.662063  \n",
       "4    0.147194    0.016328       0.299245  2.032997  \n",
       "35   0.147194    0.007750       0.297459  2.020864  \n",
       "2    0.147194    0.006750       0.295871  2.010075  \n",
       "0    0.117802    0.012428       0.293570  2.492064  \n",
       "20   0.147194    0.005186       0.293425  1.993460  \n",
       "1    0.117802    0.019260       0.290857  2.469037  "
      ]
     },
     "execution_count": 89,
     "metadata": {},
     "output_type": "execute_result"
    }
   ],
   "source": [
    "df_rules_ap1.sort_values(by = 'Confidence_AB', ascending = False).head(10)"
   ]
  },
  {
   "cell_type": "code",
   "execution_count": 90,
   "id": "1a36bb85",
   "metadata": {},
   "outputs": [
    {
     "data": {
      "text/html": [
       "<div>\n",
       "<style scoped>\n",
       "    .dataframe tbody tr th:only-of-type {\n",
       "        vertical-align: middle;\n",
       "    }\n",
       "\n",
       "    .dataframe tbody tr th {\n",
       "        vertical-align: top;\n",
       "    }\n",
       "\n",
       "    .dataframe thead th {\n",
       "        text-align: right;\n",
       "    }\n",
       "</style>\n",
       "<table border=\"1\" class=\"dataframe\">\n",
       "  <thead>\n",
       "    <tr style=\"text-align: right;\">\n",
       "      <th></th>\n",
       "      <th>Product_A</th>\n",
       "      <th>Product_B</th>\n",
       "      <th>Support_A</th>\n",
       "      <th>Support_B</th>\n",
       "      <th>Support_AB</th>\n",
       "      <th>Confidence_AB</th>\n",
       "      <th>Lift_AB</th>\n",
       "    </tr>\n",
       "  </thead>\n",
       "  <tbody>\n",
       "    <tr>\n",
       "      <th>15</th>\n",
       "      <td>Organic Cilantro</td>\n",
       "      <td>Limes</td>\n",
       "      <td>0.021334</td>\n",
       "      <td>0.043640</td>\n",
       "      <td>0.005342</td>\n",
       "      <td>0.250398</td>\n",
       "      <td>5.737819</td>\n",
       "    </tr>\n",
       "    <tr>\n",
       "      <th>18</th>\n",
       "      <td>Organic Garlic</td>\n",
       "      <td>Organic Yellow Onion</td>\n",
       "      <td>0.034158</td>\n",
       "      <td>0.035306</td>\n",
       "      <td>0.006868</td>\n",
       "      <td>0.201066</td>\n",
       "      <td>5.694942</td>\n",
       "    </tr>\n",
       "    <tr>\n",
       "      <th>7</th>\n",
       "      <td>Organic Lemon</td>\n",
       "      <td>Organic Hass Avocado</td>\n",
       "      <td>0.027242</td>\n",
       "      <td>0.066218</td>\n",
       "      <td>0.006534</td>\n",
       "      <td>0.239850</td>\n",
       "      <td>3.622130</td>\n",
       "    </tr>\n",
       "    <tr>\n",
       "      <th>24</th>\n",
       "      <td>Organic Cucumber</td>\n",
       "      <td>Organic Hass Avocado</td>\n",
       "      <td>0.025056</td>\n",
       "      <td>0.066218</td>\n",
       "      <td>0.005396</td>\n",
       "      <td>0.215358</td>\n",
       "      <td>3.252252</td>\n",
       "    </tr>\n",
       "    <tr>\n",
       "      <th>26</th>\n",
       "      <td>Organic Raspberries</td>\n",
       "      <td>Organic Strawberries</td>\n",
       "      <td>0.042334</td>\n",
       "      <td>0.082550</td>\n",
       "      <td>0.010524</td>\n",
       "      <td>0.248595</td>\n",
       "      <td>3.011442</td>\n",
       "    </tr>\n",
       "    <tr>\n",
       "      <th>30</th>\n",
       "      <td>Organic Blueberries</td>\n",
       "      <td>Organic Strawberries</td>\n",
       "      <td>0.031188</td>\n",
       "      <td>0.082550</td>\n",
       "      <td>0.007284</td>\n",
       "      <td>0.233551</td>\n",
       "      <td>2.829211</td>\n",
       "    </tr>\n",
       "    <tr>\n",
       "      <th>27</th>\n",
       "      <td>Organic Large Extra Fancy Fuji Apple</td>\n",
       "      <td>Bag of Organic Bananas</td>\n",
       "      <td>0.023374</td>\n",
       "      <td>0.117802</td>\n",
       "      <td>0.007330</td>\n",
       "      <td>0.313596</td>\n",
       "      <td>2.662063</td>\n",
       "    </tr>\n",
       "    <tr>\n",
       "      <th>16</th>\n",
       "      <td>Organic Fuji Apple</td>\n",
       "      <td>Banana</td>\n",
       "      <td>0.027942</td>\n",
       "      <td>0.147194</td>\n",
       "      <td>0.010630</td>\n",
       "      <td>0.380431</td>\n",
       "      <td>2.584554</td>\n",
       "    </tr>\n",
       "    <tr>\n",
       "      <th>0</th>\n",
       "      <td>Organic Raspberries</td>\n",
       "      <td>Bag of Organic Bananas</td>\n",
       "      <td>0.042334</td>\n",
       "      <td>0.117802</td>\n",
       "      <td>0.012428</td>\n",
       "      <td>0.293570</td>\n",
       "      <td>2.492064</td>\n",
       "    </tr>\n",
       "    <tr>\n",
       "      <th>33</th>\n",
       "      <td>Organic Cucumber</td>\n",
       "      <td>Organic Strawberries</td>\n",
       "      <td>0.025056</td>\n",
       "      <td>0.082550</td>\n",
       "      <td>0.005138</td>\n",
       "      <td>0.205061</td>\n",
       "      <td>2.484078</td>\n",
       "    </tr>\n",
       "  </tbody>\n",
       "</table>\n",
       "</div>"
      ],
      "text/plain": [
       "                               Product_A               Product_B  Support_A  \\\n",
       "15                      Organic Cilantro                   Limes   0.021334   \n",
       "18                        Organic Garlic    Organic Yellow Onion   0.034158   \n",
       "7                          Organic Lemon    Organic Hass Avocado   0.027242   \n",
       "24                      Organic Cucumber    Organic Hass Avocado   0.025056   \n",
       "26                   Organic Raspberries    Organic Strawberries   0.042334   \n",
       "30                   Organic Blueberries    Organic Strawberries   0.031188   \n",
       "27  Organic Large Extra Fancy Fuji Apple  Bag of Organic Bananas   0.023374   \n",
       "16                    Organic Fuji Apple                  Banana   0.027942   \n",
       "0                    Organic Raspberries  Bag of Organic Bananas   0.042334   \n",
       "33                      Organic Cucumber    Organic Strawberries   0.025056   \n",
       "\n",
       "    Support_B  Support_AB  Confidence_AB   Lift_AB  \n",
       "15   0.043640    0.005342       0.250398  5.737819  \n",
       "18   0.035306    0.006868       0.201066  5.694942  \n",
       "7    0.066218    0.006534       0.239850  3.622130  \n",
       "24   0.066218    0.005396       0.215358  3.252252  \n",
       "26   0.082550    0.010524       0.248595  3.011442  \n",
       "30   0.082550    0.007284       0.233551  2.829211  \n",
       "27   0.117802    0.007330       0.313596  2.662063  \n",
       "16   0.147194    0.010630       0.380431  2.584554  \n",
       "0    0.117802    0.012428       0.293570  2.492064  \n",
       "33   0.082550    0.005138       0.205061  2.484078  "
      ]
     },
     "execution_count": 90,
     "metadata": {},
     "output_type": "execute_result"
    }
   ],
   "source": [
    "df_rules_ap1.sort_values(by = 'Lift_AB', ascending = False).head(10)"
   ]
  }
 ],
 "metadata": {
  "kernelspec": {
   "display_name": "Python 3 (ipykernel)",
   "language": "python",
   "name": "python3"
  },
  "language_info": {
   "codemirror_mode": {
    "name": "ipython",
    "version": 3
   },
   "file_extension": ".py",
   "mimetype": "text/x-python",
   "name": "python",
   "nbconvert_exporter": "python",
   "pygments_lexer": "ipython3",
   "version": "3.9.7"
  }
 },
 "nbformat": 4,
 "nbformat_minor": 5
}
